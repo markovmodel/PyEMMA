{
 "metadata": {
  "name": "",
  "signature": "sha256:e8f29b04894cc7d8f9b24bcb2449c05cc6e608af1f1fe578d4bb0260497f8a35"
 },
 "nbformat": 3,
 "nbformat_minor": 0,
 "worksheets": [
  {
   "cells": [
    {
     "cell_type": "markdown",
     "metadata": {},
     "source": [
      "Java/Python Bridge\n",
      "==================\n",
      "To make it possible to run Java code via Python, we use the package JPype (http://jpype.readthedocs.org/en/latest/). \n",
      "\n",
      "The stallone java libray (https://bitbucket.org/cmb_fu/stallone) is directly used by EMMA for some algorithms like data processing. But you may access all kind of features from it like this:"
     ]
    },
    {
     "cell_type": "code",
     "collapsed": false,
     "input": [
      "from pyemma.util.pystallone import API"
     ],
     "language": "python",
     "metadata": {},
     "outputs": [],
     "prompt_number": 4
    },
    {
     "cell_type": "markdown",
     "metadata": {},
     "source": [
      "For an overview of the provided functionality, please have look [here](http://www.mi.fu-berlin.de/users/marscher/stallone-apidocs/stallone/api/API.html)."
     ]
    },
    {
     "cell_type": "markdown",
     "metadata": {},
     "source": [
      "Extend with your own Libraries\n",
      "------------------------------\n",
      "It is possible to extend EMMA with your own Java code with only one change to a configuration file. To do so, you need to change the classpath in a custom *pyemma.cfg* file:\n",
      "\n",
      "```D\n",
      "[Java]\n",
      "# Optional classpath extension, empty by default.\n",
      "# To define multiple classpathes, one should separate them with os specific path sep:\n",
      "# ':' for Linux\n",
      "# ';' for Windows\n",
      "# use absolute paths here!\n",
      "classpath = /home/marscher/sources/bioshell/bin\n",
      "```\n",
      "\n",
      "This file should be stored in your home directory under *pyemma.cfg*. The given classpathes are appended to the one EMMA uses to access its own Java libraries.\n",
      "After that you may import your lib like this:\n",
      "```python\n",
      "import pyemma # this automatically starts up a Java virtual machine and initializes the classpath\n",
      "\n",
      "# create a JPackage instance, which makes all classes under 'mypackage' available\n",
      "myPkg = pyemma.util.pystallone.JPackage('org.mycompany.mypackage')\n",
      "# instanciate MyClass from mypackage\n",
      "c = myPkg.MyClass(\"arg\", 123, [1, 42, 8])\n",
      "# do something with the class, eg. invoke a method\n",
      "result = c.work()\n",
      "```"
     ]
    },
    {
     "cell_type": "markdown",
     "metadata": {},
     "source": [
      "Efficient bidirectional Memory Access\n",
      "-------------------------------------\n",
      "During dataprocessing one may want to pass large chunks of data from Python to Java, so some computation and have the result right back on the Python side. For this use case it, we provide a wrapper, which makes this possible to directly pass a pointer to the underlying numpy buffer to Java. So changes on the array on Java side are directly visible on Python's. The following code demonstrate the usage."
     ]
    },
    {
     "cell_type": "code",
     "collapsed": false,
     "input": [
      "import pyemma\n",
      "import numpy as np"
     ],
     "language": "python",
     "metadata": {},
     "outputs": [],
     "prompt_number": 1
    },
    {
     "cell_type": "markdown",
     "metadata": {},
     "source": [
      "Create an empty numpy vector and show its flags. Its important that it is *C-contiguous*, so it can be accessed in an c array like fashion (raw pointer access)."
     ]
    },
    {
     "cell_type": "code",
     "collapsed": false,
     "input": [
      "x = np.zeros(3)\n",
      "print x.flags"
     ],
     "language": "python",
     "metadata": {},
     "outputs": [
      {
       "output_type": "stream",
       "stream": "stdout",
       "text": [
        "  C_CONTIGUOUS : True\n",
        "  F_CONTIGUOUS : True\n",
        "  OWNDATA : True\n",
        "  WRITEABLE : True\n",
        "  ALIGNED : True\n",
        "  UPDATEIFCOPY : False\n"
       ]
      }
     ],
     "prompt_number": 2
    },
    {
     "cell_type": "markdown",
     "metadata": {},
     "source": [
      "Now one can convert this numpy vector to a direct buffer the stallone array wrapping interface. The stallone array wrapper directly converts to direct buffer and wraps this in an stallone array type. Ensure that you pass copy=False to the method. Otherwise a copy will be performed. The wrapper method will also raise, if the passed in array is not contiguous. "
     ]
    },
    {
     "cell_type": "code",
     "collapsed": false,
     "input": [
      "s = pyemma.util.pystallone.ndarray_to_stallone_array(x, copy=False)"
     ],
     "language": "python",
     "metadata": {},
     "outputs": [],
     "prompt_number": 3
    },
    {
     "cell_type": "code",
     "collapsed": false,
     "input": [
      "s.set(0, 24.)\n",
      "s.set(2, 42.)"
     ],
     "language": "python",
     "metadata": {},
     "outputs": [],
     "prompt_number": 4
    },
    {
     "cell_type": "code",
     "collapsed": false,
     "input": [
      "print s"
     ],
     "language": "python",
     "metadata": {},
     "outputs": [
      {
       "output_type": "stream",
       "stream": "stdout",
       "text": [
        "24.0\t0.0\t42.0\t\n"
       ]
      }
     ],
     "prompt_number": 5
    },
    {
     "cell_type": "code",
     "collapsed": false,
     "input": [
      "np.allclose(x[0], s.get(0))"
     ],
     "language": "python",
     "metadata": {},
     "outputs": [
      {
       "metadata": {},
       "output_type": "pyout",
       "prompt_number": 6,
       "text": [
        "True"
       ]
      }
     ],
     "prompt_number": 6
    },
    {
     "cell_type": "code",
     "collapsed": false,
     "input": [
      "np.allclose(x, s.getArray())"
     ],
     "language": "python",
     "metadata": {},
     "outputs": [
      {
       "metadata": {},
       "output_type": "pyout",
       "prompt_number": 7,
       "text": [
        "True"
       ]
      }
     ],
     "prompt_number": 7
    }
   ],
   "metadata": {}
  }
 ]
}