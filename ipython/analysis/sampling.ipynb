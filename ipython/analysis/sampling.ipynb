{
 "metadata": {
  "name": "",
  "signature": "sha256:582266c130dfaac95922cc7a195eff73ce2147d7da94723657b688901f9a533b"
 },
 "nbformat": 3,
 "nbformat_minor": 0,
 "worksheets": [
  {
   "cells": [
    {
     "cell_type": "heading",
     "level": 1,
     "metadata": {},
     "source": [
      "emma2 transition matrix sampling"
     ]
    },
    {
     "cell_type": "markdown",
     "metadata": {},
     "source": [
      "This notebook demonstrates usage of the transition matrix sampling algorithms\n",
      "\n",
      "A given count matrix, 'C.npy', estimated from alanine-dipeptide simulation data at lagtime $\\tau=6ps$ is used as input for the transition matrix sampling algorithm.\n",
      "\n",
      "Auxiliary functions in 'plotting.py' are used to generate figures of the estimated quantities."
     ]
    },
    {
     "cell_type": "heading",
     "level": 2,
     "metadata": {},
     "source": [
      "Use ipythons magic % commands to activate plotting within notebook cells"
     ]
    },
    {
     "cell_type": "code",
     "collapsed": false,
     "input": [
      "%matplotlib inline"
     ],
     "language": "python",
     "metadata": {},
     "outputs": [],
     "prompt_number": 1
    },
    {
     "cell_type": "markdown",
     "metadata": {},
     "source": [
      "Imports are ordered as\n",
      "--------------------\n",
      "\n",
      "1. standard library imports \n",
      "2. third party imports\n",
      "3. local application/library specific imports"
     ]
    },
    {
     "cell_type": "code",
     "collapsed": false,
     "input": [
      "import numpy as np"
     ],
     "language": "python",
     "metadata": {},
     "outputs": [],
     "prompt_number": 2
    },
    {
     "cell_type": "code",
     "collapsed": false,
     "input": [
      "from emma2.msm.io import read_matrix"
     ],
     "language": "python",
     "metadata": {},
     "outputs": [],
     "prompt_number": 3
    },
    {
     "cell_type": "code",
     "collapsed": false,
     "input": [
      "from emma2.msm.estimation import tmatrix, tmatrix_sampler, prior_rev, prior_const"
     ],
     "language": "python",
     "metadata": {},
     "outputs": [],
     "prompt_number": 4
    },
    {
     "cell_type": "code",
     "collapsed": false,
     "input": [
      "from emma2.msm.analysis import timescales"
     ],
     "language": "python",
     "metadata": {},
     "outputs": [],
     "prompt_number": 5
    },
    {
     "cell_type": "code",
     "collapsed": false,
     "input": [
      "import plotting"
     ],
     "language": "python",
     "metadata": {},
     "outputs": [],
     "prompt_number": 6
    },
    {
     "cell_type": "markdown",
     "metadata": {},
     "source": [
      "Load necessary input data\n",
      "-----------------------\n",
      "Use emma2.msm.io.read_matrix function to read dense arrays from ascii files. The returned object will be a dense array (numpy.ndarray)."
     ]
    },
    {
     "cell_type": "code",
     "collapsed": false,
     "input": [
      "C=read_matrix('C_sampling.dat')"
     ],
     "language": "python",
     "metadata": {},
     "outputs": [],
     "prompt_number": 7
    },
    {
     "cell_type": "code",
     "collapsed": false,
     "input": [
      "mu=read_matrix('mu_wham.dat')"
     ],
     "language": "python",
     "metadata": {},
     "outputs": [],
     "prompt_number": 8
    },
    {
     "cell_type": "markdown",
     "metadata": {},
     "source": [
      "Parameter definitions\n",
      "----------------------"
     ]
    },
    {
     "cell_type": "markdown",
     "metadata": {},
     "source": [
      "Lagtime, $\\tau=6ps$"
     ]
    },
    {
     "cell_type": "code",
     "collapsed": false,
     "input": [
      "tau=6"
     ],
     "language": "python",
     "metadata": {},
     "outputs": [],
     "prompt_number": 9
    },
    {
     "cell_type": "markdown",
     "metadata": {},
     "source": [
      "Number of implied time scales, $k=4$"
     ]
    },
    {
     "cell_type": "code",
     "collapsed": false,
     "input": [
      "k=4"
     ],
     "language": "python",
     "metadata": {},
     "outputs": [],
     "prompt_number": 10
    },
    {
     "cell_type": "markdown",
     "metadata": {},
     "source": [
      "Number of burn in steps to equilibrate sampler"
     ]
    },
    {
     "cell_type": "code",
     "collapsed": false,
     "input": [
      "dM=100000"
     ],
     "language": "python",
     "metadata": {},
     "outputs": [],
     "prompt_number": 11
    },
    {
     "cell_type": "markdown",
     "metadata": {},
     "source": [
      "Number of samples to generate"
     ]
    },
    {
     "cell_type": "code",
     "collapsed": false,
     "input": [
      "N=1000"
     ],
     "language": "python",
     "metadata": {},
     "outputs": [],
     "prompt_number": 12
    },
    {
     "cell_type": "markdown",
     "metadata": {},
     "source": [
      "Number of MCMC-steps to take between samples"
     ]
    },
    {
     "cell_type": "code",
     "collapsed": false,
     "input": [
      "dN=10000"
     ],
     "language": "python",
     "metadata": {},
     "outputs": [],
     "prompt_number": 13
    },
    {
     "cell_type": "markdown",
     "metadata": {},
     "source": [
      "Non reversible\n",
      "--------------"
     ]
    },
    {
     "cell_type": "markdown",
     "metadata": {},
     "source": [
      "Estimate maximum likelihood transition matrix and compute values of implied time-scales as reference for sampling"
     ]
    },
    {
     "cell_type": "code",
     "collapsed": false,
     "input": [
      "T_nrev=tmatrix(C)"
     ],
     "language": "python",
     "metadata": {},
     "outputs": [],
     "prompt_number": 14
    },
    {
     "cell_type": "code",
     "collapsed": false,
     "input": [
      "ts_nrev=timescales(T_nrev, k=k, tau=tau)"
     ],
     "language": "python",
     "metadata": {},
     "outputs": [],
     "prompt_number": 15
    },
    {
     "cell_type": "code",
     "collapsed": false,
     "input": [
      "print ts_nrev"
     ],
     "language": "python",
     "metadata": {},
     "outputs": [
      {
       "output_type": "stream",
       "stream": "stdout",
       "text": [
        "[           inf  1506.65156759    70.16511749    37.0941437 ]\n"
       ]
      }
     ],
     "prompt_number": 16
    },
    {
     "cell_type": "markdown",
     "metadata": {},
     "source": [
      "Create a emma2.msm.estimation.tmatrix_sampler object\n",
      "\n",
      "1. Add constant prior $b_{ij}=-1$ to count matrix\n",
      "2. Set the maximum likelihood estimator $T_{nrev}$ as starting point $T_0$ of the chain\n",
      "\n",
      "The constant prior ensures that the mean value of the chain corresponds to the maximum likelihood estimator for $N \\rightarrow \\infty$"
     ]
    },
    {
     "cell_type": "code",
     "collapsed": false,
     "input": [
      "sampler_nrev=tmatrix_sampler(C+prior_const(C, alpha=-1.0), T0=T_nrev)"
     ],
     "language": "python",
     "metadata": {},
     "outputs": [],
     "prompt_number": 17
    },
    {
     "cell_type": "markdown",
     "metadata": {},
     "source": [
      "Array for time scale sample"
     ]
    },
    {
     "cell_type": "code",
     "collapsed": false,
     "input": [
      "ts_sample_nrev=np.zeros((N, k))"
     ],
     "language": "python",
     "metadata": {},
     "outputs": [],
     "prompt_number": 18
    },
    {
     "cell_type": "markdown",
     "metadata": {},
     "source": [
      "Burn-in period of MCMC-sampler"
     ]
    },
    {
     "cell_type": "code",
     "collapsed": false,
     "input": [
      "sampler_nrev.sample(dM)"
     ],
     "language": "python",
     "metadata": {},
     "outputs": [
      {
       "metadata": {},
       "output_type": "pyout",
       "prompt_number": 19,
       "text": [
        "array([[ 0.,  0.,  0., ...,  0.,  0.,  0.],\n",
        "       [ 0.,  0.,  0., ...,  0.,  0.,  0.],\n",
        "       [ 0.,  0.,  0., ...,  0.,  0.,  0.],\n",
        "       ..., \n",
        "       [ 0.,  0.,  0., ...,  0.,  0.,  0.],\n",
        "       [ 0.,  0.,  0., ...,  0.,  0.,  0.],\n",
        "       [ 0.,  0.,  0., ...,  0.,  0.,  0.]])"
       ]
      }
     ],
     "prompt_number": 19
    },
    {
     "cell_type": "markdown",
     "metadata": {},
     "source": [
      "Sample transition matrix and compute $k$ leading time scales for lagtime $\\tau$"
     ]
    },
    {
     "cell_type": "code",
     "collapsed": false,
     "input": [
      "for i in range(N):\n",
      "    T=sampler_nrev.sample(dN)\n",
      "    ts_sample_nrev[i,:]=timescales(T, k=k, tau=tau)"
     ],
     "language": "python",
     "metadata": {},
     "outputs": [],
     "prompt_number": 20
    },
    {
     "cell_type": "code",
     "collapsed": false,
     "input": [
      "print ts_sample_nrev"
     ],
     "language": "python",
     "metadata": {},
     "outputs": [
      {
       "output_type": "stream",
       "stream": "stdout",
       "text": [
        "[[           inf  1511.60051145    70.1611504     36.63391518]\n",
        " [           inf  1506.32081911    70.11200482    36.54748024]\n",
        " [           inf  1512.5068276     70.14274894    36.76166123]\n",
        " ..., \n",
        " [           inf  1505.13661898    69.74514896    36.10503628]\n",
        " [           inf  1504.6044381     69.74679405    36.00315353]\n",
        " [           inf  1501.88655537    69.82107736    35.79459865]]\n"
       ]
      }
     ],
     "prompt_number": 21
    },
    {
     "cell_type": "markdown",
     "metadata": {},
     "source": [
      "Sample mean $\\mathbf{E}(t_i)$\n"
     ]
    },
    {
     "cell_type": "code",
     "collapsed": false,
     "input": [
      "print np.mean(ts_sample_nrev[:,1:], axis=0)"
     ],
     "language": "python",
     "metadata": {},
     "outputs": [
      {
       "output_type": "stream",
       "stream": "stdout",
       "text": [
        "[ 1498.73904531    70.28000582    36.86735073]\n"
       ]
      }
     ],
     "prompt_number": 22
    },
    {
     "cell_type": "markdown",
     "metadata": {},
     "source": [
      "Sample standard deviation $std(t_i)$"
     ]
    },
    {
     "cell_type": "code",
     "collapsed": false,
     "input": [
      "print np.std(ts_sample_nrev[:,1:], axis=0)"
     ],
     "language": "python",
     "metadata": {},
     "outputs": [
      {
       "output_type": "stream",
       "stream": "stdout",
       "text": [
        "[ 57.77648561   0.35636822   1.73646456]\n"
       ]
      }
     ],
     "prompt_number": 23
    },
    {
     "cell_type": "markdown",
     "metadata": {},
     "source": [
      "Histogram of sample of largest implied time scales\n"
     ]
    },
    {
     "cell_type": "code",
     "collapsed": false,
     "input": [
      "plotting.timescale_histogram(ts_sample_nrev[:,1])"
     ],
     "language": "python",
     "metadata": {},
     "outputs": [
      {
       "metadata": {},
       "output_type": "display_data",
       "png": "[encoded data removed]",
       "text": [
        "<matplotlib.figure.Figure at 0x7f92040ad210>"
       ]
      }
     ],
     "prompt_number": 24
    },
    {
     "cell_type": "markdown",
     "metadata": {},
     "source": [
      "Reversible\n",
      "----------"
     ]
    },
    {
     "cell_type": "markdown",
     "metadata": {},
     "source": [
      "Estimate maximum likelihood transition matrix and compute values of implied time-scales as reference for sampling"
     ]
    },
    {
     "cell_type": "code",
     "collapsed": false,
     "input": [
      "T_rev=tmatrix(C, reversible=True)"
     ],
     "language": "python",
     "metadata": {},
     "outputs": [],
     "prompt_number": 25
    },
    {
     "cell_type": "code",
     "collapsed": false,
     "input": [
      "ts_rev=timescales(T_rev, k=k, tau=tau)"
     ],
     "language": "python",
     "metadata": {},
     "outputs": [],
     "prompt_number": 26
    },
    {
     "cell_type": "code",
     "collapsed": false,
     "input": [
      "print ts_rev"
     ],
     "language": "python",
     "metadata": {},
     "outputs": [
      {
       "output_type": "stream",
       "stream": "stdout",
       "text": [
        "[           inf  1518.29184928    70.20868863    37.64215705]\n"
       ]
      }
     ],
     "prompt_number": 27
    },
    {
     "cell_type": "markdown",
     "metadata": {},
     "source": [
      "Create a emma2.msm.estimation.tmatrix_sampler object\n",
      "\n",
      "1. Add reversible prior $b_{ij}=-1$ if $i \\leq j$ to count matrix\n",
      "2. Set the maximum likelihood estimator $T_{rev}$ as starting point $T_0$ of the chain\n",
      "\n",
      "The reversible prior respects the fact that the degree of freedoms for the sampler correspond to the upper triangular part of the transition matrix "
     ]
    },
    {
     "cell_type": "code",
     "collapsed": false,
     "input": [
      "sampler_rev=tmatrix_sampler(C+prior_rev(C), reversible=True, T0=T_rev)"
     ],
     "language": "python",
     "metadata": {},
     "outputs": [],
     "prompt_number": 28
    },
    {
     "cell_type": "markdown",
     "metadata": {},
     "source": [
      "Array for time scale sample"
     ]
    },
    {
     "cell_type": "code",
     "collapsed": false,
     "input": [
      "ts_sample_rev=np.zeros((N, k))"
     ],
     "language": "python",
     "metadata": {},
     "outputs": [],
     "prompt_number": 29
    },
    {
     "cell_type": "markdown",
     "metadata": {},
     "source": [
      "Burn-in period of MCMC-sampler"
     ]
    },
    {
     "cell_type": "code",
     "collapsed": false,
     "input": [
      "sampler_rev.sample(dM)"
     ],
     "language": "python",
     "metadata": {},
     "outputs": [
      {
       "metadata": {},
       "output_type": "pyout",
       "prompt_number": 30,
       "text": [
        "array([[ 0.,  0.,  0., ...,  0.,  0.,  0.],\n",
        "       [ 0.,  0.,  0., ...,  0.,  0.,  0.],\n",
        "       [ 0.,  0.,  0., ...,  0.,  0.,  0.],\n",
        "       ..., \n",
        "       [ 0.,  0.,  0., ...,  0.,  0.,  0.],\n",
        "       [ 0.,  0.,  0., ...,  0.,  0.,  0.],\n",
        "       [ 0.,  0.,  0., ...,  0.,  0.,  0.]])"
       ]
      }
     ],
     "prompt_number": 30
    },
    {
     "cell_type": "code",
     "collapsed": false,
     "input": [
      "for i in range(N):\n",
      "    T=sampler_rev.sample(dN)\n",
      "    ts_sample_rev[i, :]=timescales(T, k=k, tau=tau)"
     ],
     "language": "python",
     "metadata": {},
     "outputs": [],
     "prompt_number": 31
    },
    {
     "cell_type": "code",
     "collapsed": false,
     "input": [
      "print ts_sample_rev"
     ],
     "language": "python",
     "metadata": {},
     "outputs": [
      {
       "output_type": "stream",
       "stream": "stdout",
       "text": [
        "[[           inf  1394.16209746    69.50199679    35.21893212]\n",
        " [           inf  1373.54531953    69.52407974    34.81121817]\n",
        " [           inf  1368.52254005    69.46350995    34.77578078]\n",
        " ..., \n",
        " [           inf   975.81480056    66.86751973    33.22093778]\n",
        " [           inf   998.8471291     66.91276866    33.40207791]\n",
        " [           inf  1000.25076935    66.75186979    32.2116443 ]]\n"
       ]
      }
     ],
     "prompt_number": 32
    },
    {
     "cell_type": "markdown",
     "metadata": {},
     "source": [
      "Sample mean $\\mathbf{E}(t_i)$\n"
     ]
    },
    {
     "cell_type": "code",
     "collapsed": false,
     "input": [
      "print np.mean(ts_sample_rev[:,1:], axis=0)"
     ],
     "language": "python",
     "metadata": {},
     "outputs": [
      {
       "output_type": "stream",
       "stream": "stdout",
       "text": [
        "[ 1104.50868745    66.52065308    32.43074728]\n"
       ]
      }
     ],
     "prompt_number": 33
    },
    {
     "cell_type": "markdown",
     "metadata": {},
     "source": [
      "Sample standard deviation $std(t_i)$"
     ]
    },
    {
     "cell_type": "code",
     "collapsed": false,
     "input": [
      "print np.std(ts_sample_rev[:,1:], axis=0)"
     ],
     "language": "python",
     "metadata": {},
     "outputs": [
      {
       "output_type": "stream",
       "stream": "stdout",
       "text": [
        "[ 77.75733552   0.64983324   1.61024548]\n"
       ]
      }
     ],
     "prompt_number": 34
    },
    {
     "cell_type": "markdown",
     "metadata": {},
     "source": [
      "Histogram of sample of largest implied time scales\n"
     ]
    },
    {
     "cell_type": "code",
     "collapsed": false,
     "input": [
      "plotting.timescale_histogram(ts_sample_rev[:,1])"
     ],
     "language": "python",
     "metadata": {},
     "outputs": [
      {
       "metadata": {},
       "output_type": "display_data",
       "png": "[encoded data removed]",
       "text": [
        "<matplotlib.figure.Figure at 0x7f9204035b50>"
       ]
      }
     ],
     "prompt_number": 35
    },
    {
     "cell_type": "markdown",
     "metadata": {},
     "source": [
      "Reversible with fixed stationary vector $\\mu$\n",
      "----------------------------------------------"
     ]
    },
    {
     "cell_type": "markdown",
     "metadata": {},
     "source": [
      "Estimate maximum likelihood transition matrix and compute values of implied time-scales as reference for sampling.\n",
      "\n",
      "We need to add a small offset to the diagonal in order to guarantee convergence of the estimation algorithm"
     ]
    },
    {
     "cell_type": "code",
     "collapsed": false,
     "input": [
      "T_mu=tmatrix(C+1e-10, reversible=True, mu=mu)"
     ],
     "language": "python",
     "metadata": {},
     "outputs": [],
     "prompt_number": 36
    },
    {
     "cell_type": "code",
     "collapsed": false,
     "input": [
      "ts_mu=timescales(T_mu, k=k, tau=tau)"
     ],
     "language": "python",
     "metadata": {},
     "outputs": [],
     "prompt_number": 37
    },
    {
     "cell_type": "code",
     "collapsed": false,
     "input": [
      "print ts_mu"
     ],
     "language": "python",
     "metadata": {},
     "outputs": [
      {
       "output_type": "stream",
       "stream": "stdout",
       "text": [
        "[           inf  1327.81195275    70.78464007    38.55859591]\n"
       ]
      }
     ],
     "prompt_number": 38
    },
    {
     "cell_type": "markdown",
     "metadata": {},
     "source": [
      "Create a emma2.msm.estimation.tmatrix_sampler object\n",
      "\n",
      "1. Add reversible prior $b_{ij}=-1$ if $i \\leq j$ to count matrix\n",
      "2. Set the maximum likelihood estimator $T_{mu}$ as starting point $T_0$ of the chain\n",
      "\n",
      "The reversible prior respects the fact that the degree of freedoms for the sampler correspond to the upper triangular part of the transition matrix "
     ]
    },
    {
     "cell_type": "code",
     "collapsed": false,
     "input": [
      "sampler_mu=tmatrix_sampler(C, reversible=True, mu=mu, T0=T_mu)"
     ],
     "language": "python",
     "metadata": {},
     "outputs": [],
     "prompt_number": 39
    },
    {
     "cell_type": "markdown",
     "metadata": {},
     "source": [
      "Array for time scale sample"
     ]
    },
    {
     "cell_type": "code",
     "collapsed": false,
     "input": [
      "ts_sample_mu=np.zeros((N, k))"
     ],
     "language": "python",
     "metadata": {},
     "outputs": [],
     "prompt_number": 40
    },
    {
     "cell_type": "markdown",
     "metadata": {},
     "source": [
      "Burn-in period of MCMC-sampler"
     ]
    },
    {
     "cell_type": "code",
     "collapsed": false,
     "input": [
      "sampler_mu.sample(dM)"
     ],
     "language": "python",
     "metadata": {},
     "outputs": [
      {
       "metadata": {},
       "output_type": "pyout",
       "prompt_number": 41,
       "text": [
        "array([[  3.15211269e-03,   6.54292774e-13,   7.85841550e-06, ...,\n",
        "          2.80143228e-05,   3.32466012e-04,   3.17409915e-05],\n",
        "       [  1.01338959e-11,   2.81134449e-03,   7.51308799e-06, ...,\n",
        "          1.02442096e-03,   1.33563066e-03,   5.53528321e-04],\n",
        "       [  1.40345859e-03,   8.66320875e-05,   9.15839500e-03, ...,\n",
        "          1.72201038e-03,   7.27324726e-05,   5.28386782e-08],\n",
        "       ..., \n",
        "       [  9.74181306e-04,   2.30003161e-03,   3.35297882e-04, ...,\n",
        "          5.47792917e-03,   2.46637650e-04,   2.40901329e-03],\n",
        "       [  4.58266287e-03,   1.18864652e-03,   5.61350857e-06, ...,\n",
        "          9.77620647e-05,   1.38164571e-04,   9.00568885e-06],\n",
        "       [  6.26774598e-04,   7.05710260e-04,   5.84222429e-09, ...,\n",
        "          1.36795065e-03,   1.29014101e-05,   5.45842039e-04]])"
       ]
      }
     ],
     "prompt_number": 41
    },
    {
     "cell_type": "code",
     "collapsed": false,
     "input": [
      "for i in range(N):\n",
      "    T=sampler_mu.sample(dN)\n",
      "    ts_sample_mu[i, :]=timescales(T, k=k, tau=tau)"
     ],
     "language": "python",
     "metadata": {},
     "outputs": [],
     "prompt_number": 42
    },
    {
     "cell_type": "markdown",
     "metadata": {},
     "source": [
      "Sample mean $\\mathbf{E}(t_i)$"
     ]
    },
    {
     "cell_type": "code",
     "collapsed": false,
     "input": [
      "print np.mean(ts_sample_mu[:,1:], axis=0)"
     ],
     "language": "python",
     "metadata": {},
     "outputs": [
      {
       "output_type": "stream",
       "stream": "stdout",
       "text": [
        "[ 104.20588998   63.29244331   11.14867187]\n"
       ]
      }
     ],
     "prompt_number": 43
    },
    {
     "cell_type": "markdown",
     "metadata": {},
     "source": [
      "Sample standard deviation $std(t_i)$"
     ]
    },
    {
     "cell_type": "code",
     "collapsed": false,
     "input": [
      "print np.std(ts_sample_mu[:,1:], axis=0)"
     ],
     "language": "python",
     "metadata": {},
     "outputs": [
      {
       "output_type": "stream",
       "stream": "stdout",
       "text": [
        "[ 1.75674698  0.37978198  0.34169155]\n"
       ]
      }
     ],
     "prompt_number": 44
    },
    {
     "cell_type": "markdown",
     "metadata": {},
     "source": [
      "Histogram of sample of largest implied time scales\n"
     ]
    },
    {
     "cell_type": "code",
     "collapsed": false,
     "input": [
      "plotting.timescale_histogram(ts_sample_mu[:,1])"
     ],
     "language": "python",
     "metadata": {},
     "outputs": [
      {
       "metadata": {},
       "output_type": "display_data",
       "png": "[encoded data removed]",
       "text": [
        "<matplotlib.figure.Figure at 0x7f91f4057f90>"
       ]
      }
     ],
     "prompt_number": 45
    },
    {
     "cell_type": "markdown",
     "metadata": {},
     "source": [
      "Summary\n",
      "-------\n",
      "\n",
      "The emma2.msm.estimation.tmatrix_sampler can be used to obtain detailed information about the statisatical uncertainty of observables of interest, especially obervables of dynamical properties of the studied system such as implied time scales."
     ]
    },
    {
     "cell_type": "code",
     "collapsed": false,
     "input": [],
     "language": "python",
     "metadata": {},
     "outputs": [],
     "prompt_number": 45
    }
   ],
   "metadata": {}
  }
 ]
}
