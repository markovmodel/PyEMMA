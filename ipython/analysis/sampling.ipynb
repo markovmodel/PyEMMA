{
 "metadata": {
  "name": ""
 },
 "nbformat": 3,
 "nbformat_minor": 0,
 "worksheets": [
  {
   "cells": [
    {
     "cell_type": "heading",
     "level": 1,
     "metadata": {},
     "source": [
      "emma2 transition matrix sampling"
     ]
    },
    {
     "cell_type": "markdown",
     "metadata": {},
     "source": [
      "This notebook demonstrates usage of the transition matrix sampling algorithms\n",
      "\n",
      "A given count matrix, 'C.npy', estimated from alanine-dipeptide simulation data at lagtime $\\tau=6ps$ is used as input for the transition matrix sampling algorithm.\n",
      "\n",
      "Auxiliary functions in 'plotting.py' are used to generate figures of the estimated quantities."
     ]
    },
    {
     "cell_type": "heading",
     "level": 2,
     "metadata": {},
     "source": [
      "Use ipythons magic % commands to activate plotting within notebook cells"
     ]
    },
    {
     "cell_type": "code",
     "collapsed": false,
     "input": [
      "%matplotlib inline"
     ],
     "language": "python",
     "metadata": {},
     "outputs": [],
     "prompt_number": 1
    },
    {
     "cell_type": "markdown",
     "metadata": {},
     "source": [
      "Imports are ordered as\n",
      "--------------------\n",
      "\n",
      "1. standard library imports \n",
      "2. third party imports\n",
      "3. local application/library specific imports"
     ]
    },
    {
     "cell_type": "code",
     "collapsed": false,
     "input": [
      "import numpy as np"
     ],
     "language": "python",
     "metadata": {},
     "outputs": [],
     "prompt_number": 2
    },
    {
     "cell_type": "code",
     "collapsed": false,
     "input": [
      "from emma2.msm.io import read_matrix"
     ],
     "language": "python",
     "metadata": {},
     "outputs": [],
     "prompt_number": 3
    },
    {
     "cell_type": "code",
     "collapsed": false,
     "input": [
      "from emma2.msm.estimation import tmatrix, tmatrix_sampler, prior_rev, prior_const"
     ],
     "language": "python",
     "metadata": {},
     "outputs": [],
     "prompt_number": 4
    },
    {
     "cell_type": "code",
     "collapsed": false,
     "input": [
      "from emma2.msm.analysis import timescales"
     ],
     "language": "python",
     "metadata": {},
     "outputs": [],
     "prompt_number": 5
    },
    {
     "cell_type": "code",
     "collapsed": false,
     "input": [
      "import plotting"
     ],
     "language": "python",
     "metadata": {},
     "outputs": [],
     "prompt_number": 6
    },
    {
     "cell_type": "markdown",
     "metadata": {},
     "source": [
      "Load necessary input data\n",
      "-----------------------\n",
      "Use emma2.msm.io.read_matrix function to read dense arrays from ascii files. The returned object will be a dense array (numpy.ndarray)."
     ]
    },
    {
     "cell_type": "code",
     "collapsed": false,
     "input": [
      "C=read_matrix('C_sampling.dat')"
     ],
     "language": "python",
     "metadata": {},
     "outputs": [],
     "prompt_number": 7
    },
    {
     "cell_type": "code",
     "collapsed": false,
     "input": [
      "mu=read_matrix('mu_wham.dat')"
     ],
     "language": "python",
     "metadata": {},
     "outputs": [],
     "prompt_number": 8
    },
    {
     "cell_type": "markdown",
     "metadata": {},
     "source": [
      "Lagtime, $\\tau=6ps$"
     ]
    },
    {
     "cell_type": "code",
     "collapsed": false,
     "input": [
      "tau=6"
     ],
     "language": "python",
     "metadata": {},
     "outputs": [],
     "prompt_number": 9
    },
    {
     "cell_type": "markdown",
     "metadata": {},
     "source": [
      "Number of implied time scales, $k=4$"
     ]
    },
    {
     "cell_type": "code",
     "collapsed": false,
     "input": [
      "k=4"
     ],
     "language": "python",
     "metadata": {},
     "outputs": [],
     "prompt_number": 10
    },
    {
     "cell_type": "markdown",
     "metadata": {},
     "source": [
      "Maxmimum likelihood transition matrix\n",
      "--------------------------------------\n",
      "\n",
      "Estimate maximum likelihood transition matrix and compute values of implied time-scales as reference for sampling"
     ]
    },
    {
     "cell_type": "code",
     "collapsed": false,
     "input": [
      "T_nrev=tmatrix(C)"
     ],
     "language": "python",
     "metadata": {},
     "outputs": [],
     "prompt_number": 11
    },
    {
     "cell_type": "code",
     "collapsed": false,
     "input": [
      "ts_nrev=timescales(T_nrev, k=k, tau=tau)"
     ],
     "language": "python",
     "metadata": {},
     "outputs": [],
     "prompt_number": 12
    },
    {
     "cell_type": "code",
     "collapsed": false,
     "input": [
      "print ts_nrev"
     ],
     "language": "python",
     "metadata": {},
     "outputs": [
      {
       "output_type": "stream",
       "stream": "stdout",
       "text": [
        "[           inf  1506.65156759    70.16511749    37.0941437 ]\n"
       ]
      }
     ],
     "prompt_number": 13
    },
    {
     "cell_type": "code",
     "collapsed": false,
     "input": [
      "T_rev=tmatrix(C, reversible=True)"
     ],
     "language": "python",
     "metadata": {},
     "outputs": [],
     "prompt_number": 14
    },
    {
     "cell_type": "code",
     "collapsed": false,
     "input": [
      "ts_rev=timescales(T_rev, k=k, tau=tau)"
     ],
     "language": "python",
     "metadata": {},
     "outputs": [],
     "prompt_number": 15
    },
    {
     "cell_type": "code",
     "collapsed": false,
     "input": [
      "print ts_rev"
     ],
     "language": "python",
     "metadata": {},
     "outputs": [
      {
       "output_type": "stream",
       "stream": "stdout",
       "text": [
        "[           inf  1518.29184928    70.20868863    37.64215705]\n"
       ]
      }
     ],
     "prompt_number": 16
    },
    {
     "cell_type": "code",
     "collapsed": false,
     "input": [
      "T_mu=tmatrix(C+1e-10, reversible=True, mu=mu)"
     ],
     "language": "python",
     "metadata": {},
     "outputs": [],
     "prompt_number": 17
    },
    {
     "cell_type": "code",
     "collapsed": false,
     "input": [
      "ts_mu=timescales(T_mu, k=k, tau=tau)"
     ],
     "language": "python",
     "metadata": {},
     "outputs": [],
     "prompt_number": 18
    },
    {
     "cell_type": "code",
     "collapsed": false,
     "input": [
      "print ts_mu"
     ],
     "language": "python",
     "metadata": {},
     "outputs": [
      {
       "output_type": "stream",
       "stream": "stdout",
       "text": [
        "[           inf  1327.81195275    70.78464007    38.55859591]\n"
       ]
      }
     ],
     "prompt_number": 19
    },
    {
     "cell_type": "code",
     "collapsed": false,
     "input": [
      "sampler_nrev=tmatrix_sampler(C+prior_const(C, alpha=-1.0), T0=T_nrev)"
     ],
     "language": "python",
     "metadata": {},
     "outputs": [],
     "prompt_number": 20
    },
    {
     "cell_type": "code",
     "collapsed": false,
     "input": [
      "sampler_rev=tmatrix_sampler(C+prior_rev(C), reversible=True, T0=T_rev)"
     ],
     "language": "python",
     "metadata": {},
     "outputs": [],
     "prompt_number": 21
    },
    {
     "cell_type": "code",
     "collapsed": false,
     "input": [
      "sampler_mu=tmatrix_sampler(C, reversible=True, T0=T_mu, mu=mu)"
     ],
     "language": "python",
     "metadata": {},
     "outputs": [],
     "prompt_number": 22
    },
    {
     "cell_type": "code",
     "collapsed": false,
     "input": [
      "N=10"
     ],
     "language": "python",
     "metadata": {},
     "outputs": [],
     "prompt_number": 23
    },
    {
     "cell_type": "code",
     "collapsed": false,
     "input": [
      "dN=10000"
     ],
     "language": "python",
     "metadata": {},
     "outputs": [],
     "prompt_number": 24
    },
    {
     "cell_type": "code",
     "collapsed": false,
     "input": [
      "ts_sample_nrev=np.zeros((N, k))"
     ],
     "language": "python",
     "metadata": {},
     "outputs": [],
     "prompt_number": 25
    },
    {
     "cell_type": "code",
     "collapsed": false,
     "input": [
      "for i in range(N):\n",
      "    T=sampler_nrev.sample(dN)\n",
      "    ts_sample_nrev[i,:]=timescales(T, k=k, tau=tau)"
     ],
     "language": "python",
     "metadata": {},
     "outputs": [],
     "prompt_number": 26
    },
    {
     "cell_type": "code",
     "collapsed": false,
     "input": [
      "print ts_sample_nrev"
     ],
     "language": "python",
     "metadata": {},
     "outputs": [
      {
       "output_type": "stream",
       "stream": "stdout",
       "text": [
        "[[           inf  1506.9812821     70.13951996    37.09408242]\n",
        " [           inf  1489.47108984    70.07535813    37.55468804]\n",
        " [           inf  1505.34128565    70.09708826    37.35004084]\n",
        " [           inf  1504.56153495    70.1123587     37.38419197]\n",
        " [           inf  1492.31575162    70.11464849    38.03895264]\n",
        " [           inf  1472.53030023    70.0725682     38.45072756]\n",
        " [           inf  1471.3755781     70.03624678    38.36568027]\n",
        " [           inf  1472.37576746    70.05203456    39.59732859]\n",
        " [           inf  1479.77590828    69.96215403    39.95439281]\n",
        " [           inf  1475.99860481    69.96516907    39.64647318]]\n"
       ]
      }
     ],
     "prompt_number": 27
    },
    {
     "cell_type": "code",
     "collapsed": false,
     "input": [
      "print np.mean(ts_sample_nrev[:,1:], axis=0)"
     ],
     "language": "python",
     "metadata": {},
     "outputs": [
      {
       "output_type": "stream",
       "stream": "stdout",
       "text": [
        "[ 1487.0727103     70.06271462    38.34365583]\n"
       ]
      }
     ],
     "prompt_number": 28
    },
    {
     "cell_type": "code",
     "collapsed": false,
     "input": [
      "print np.std(ts_sample_nrev[:,1:], axis=0)"
     ],
     "language": "python",
     "metadata": {},
     "outputs": [
      {
       "output_type": "stream",
       "stream": "stdout",
       "text": [
        "[ 13.85263037   0.0573946    1.00299756]\n"
       ]
      }
     ],
     "prompt_number": 29
    },
    {
     "cell_type": "code",
     "collapsed": false,
     "input": [
      "ts_sample_rev=np.zeros((N, k))"
     ],
     "language": "python",
     "metadata": {},
     "outputs": [],
     "prompt_number": 30
    },
    {
     "cell_type": "code",
     "collapsed": false,
     "input": [
      "sampler_rev.sample(100000)"
     ],
     "language": "python",
     "metadata": {},
     "outputs": [
      {
       "metadata": {},
       "output_type": "pyout",
       "prompt_number": 31,
       "text": [
        "array([[ 0.,  0.,  0., ...,  0.,  0.,  0.],\n",
        "       [ 0.,  0.,  0., ...,  0.,  0.,  0.],\n",
        "       [ 0.,  0.,  0., ...,  0.,  0.,  0.],\n",
        "       ..., \n",
        "       [ 0.,  0.,  0., ...,  0.,  0.,  0.],\n",
        "       [ 0.,  0.,  0., ...,  0.,  0.,  0.],\n",
        "       [ 0.,  0.,  0., ...,  0.,  0.,  0.]])"
       ]
      }
     ],
     "prompt_number": 31
    },
    {
     "cell_type": "code",
     "collapsed": false,
     "input": [
      "for i in range(N):\n",
      "    T=sampler_rev.sample(dN)\n",
      "    ts_sample_rev[i, :]=timescales(T, k=k, tau=tau)"
     ],
     "language": "python",
     "metadata": {},
     "outputs": [],
     "prompt_number": 32
    },
    {
     "cell_type": "code",
     "collapsed": false,
     "input": [
      "print ts_sample_rev"
     ],
     "language": "python",
     "metadata": {},
     "outputs": [
      {
       "output_type": "stream",
       "stream": "stdout",
       "text": [
        "[[           inf  1449.30194281    69.57848036    33.790541  ]\n",
        " [           inf  1452.1618516     69.56347099    33.89587919]\n",
        " [           inf  1470.08125833    69.54179713    33.76447145]\n",
        " [           inf  1455.16658478    69.42109126    33.48872339]\n",
        " [           inf  1473.46878923    69.32646602    33.11648132]\n",
        " [           inf  1448.47280892    69.22647046    32.99154079]\n",
        " [           inf  1446.96978025    69.03200626    33.09320198]\n",
        " [           inf  1433.07629034    69.11494555    32.54429642]\n",
        " [           inf  1441.55718454    69.07895896    33.18767583]\n",
        " [           inf  1426.13507159    69.08315835    32.70909237]]\n"
       ]
      }
     ],
     "prompt_number": 33
    },
    {
     "cell_type": "code",
     "collapsed": false,
     "input": [
      "print np.mean(ts_sample_rev[:,1:], axis=0)"
     ],
     "language": "python",
     "metadata": {},
     "outputs": [
      {
       "output_type": "stream",
       "stream": "stdout",
       "text": [
        "[ 1449.63915624    69.29668454    33.25819038]\n"
       ]
      }
     ],
     "prompt_number": 34
    },
    {
     "cell_type": "code",
     "collapsed": false,
     "input": [
      "print np.std(ts_sample_rev[:,1:], axis=0)"
     ],
     "language": "python",
     "metadata": {},
     "outputs": [
      {
       "output_type": "stream",
       "stream": "stdout",
       "text": [
        "[ 13.86843841   0.20689117   0.43977726]\n"
       ]
      }
     ],
     "prompt_number": 35
    },
    {
     "cell_type": "code",
     "collapsed": false,
     "input": [
      "sampler_mu.sample(10)"
     ],
     "language": "python",
     "metadata": {},
     "outputs": [
      {
       "ename": "java.lang.NullPointerExceptionPyRaisable",
       "evalue": "java.lang.NullPointerException",
       "output_type": "pyerr",
       "traceback": [
        "\u001b[1;31m---------------------------------------------------------------------------\u001b[0m\n\u001b[1;31mjava.lang.NullPointerExceptionPyRaisable\u001b[0m  Traceback (most recent call last)",
        "\u001b[1;32m<ipython-input-36-ce696708eda2>\u001b[0m in \u001b[0;36m<module>\u001b[1;34m()\u001b[0m\n\u001b[1;32m----> 1\u001b[1;33m \u001b[0msampler_mu\u001b[0m\u001b[1;33m.\u001b[0m\u001b[0msample\u001b[0m\u001b[1;33m(\u001b[0m\u001b[1;36m10\u001b[0m\u001b[1;33m)\u001b[0m\u001b[1;33m\u001b[0m\u001b[0m\n\u001b[0m",
        "\u001b[1;32m/home/mi/trendelkamp/work/git/emma2/emma2/msm/estimation/dense/tmatrix_sampler_jwrapper.pyc\u001b[0m in \u001b[0;36msample\u001b[1;34m(self, steps)\u001b[0m\n\u001b[0;32m     85\u001b[0m         \u001b[0msample\u001b[0m \u001b[1;33m:\u001b[0m \u001b[0mndarray\u001b[0m\u001b[1;33m\u001b[0m\u001b[0m\n\u001b[0;32m     86\u001b[0m         \"\"\"\n\u001b[1;32m---> 87\u001b[1;33m         \u001b[1;32mreturn\u001b[0m \u001b[0mstallone_array_to_ndarray\u001b[0m\u001b[1;33m(\u001b[0m\u001b[0mself\u001b[0m\u001b[1;33m.\u001b[0m\u001b[0msampler\u001b[0m\u001b[1;33m.\u001b[0m\u001b[0msample\u001b[0m\u001b[1;33m(\u001b[0m\u001b[0msteps\u001b[0m\u001b[1;33m)\u001b[0m\u001b[1;33m)\u001b[0m\u001b[1;33m\u001b[0m\u001b[0m\n\u001b[0m\u001b[0;32m     88\u001b[0m \u001b[1;33m\u001b[0m\u001b[0m\n\u001b[0;32m     89\u001b[0m     \u001b[1;32mdef\u001b[0m \u001b[0mloglikelihood\u001b[0m\u001b[1;33m(\u001b[0m\u001b[0mself\u001b[0m\u001b[1;33m)\u001b[0m\u001b[1;33m:\u001b[0m\u001b[1;33m\u001b[0m\u001b[0m\n",
        "\u001b[1;31mjava.lang.NullPointerExceptionPyRaisable\u001b[0m: java.lang.NullPointerException"
       ]
      }
     ],
     "prompt_number": 36
    },
    {
     "cell_type": "code",
     "collapsed": false,
     "input": [
      "# plotting.timescale_histogram(ts_sample_nrev[:,1])"
     ],
     "language": "python",
     "metadata": {},
     "outputs": []
    },
    {
     "cell_type": "code",
     "collapsed": false,
     "input": [
      "# plotting.timescale_histogram(ts_sample_rev[:,1])"
     ],
     "language": "python",
     "metadata": {},
     "outputs": []
    },
    {
     "cell_type": "code",
     "collapsed": false,
     "input": [],
     "language": "python",
     "metadata": {},
     "outputs": []
    }
   ],
   "metadata": {}
  }
 ]
}