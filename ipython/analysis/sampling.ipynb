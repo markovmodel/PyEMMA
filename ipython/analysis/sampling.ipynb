{
 "metadata": {
  "name": "",
  "signature": "sha256:582266c130dfaac95922cc7a195eff73ce2147d7da94723657b688901f9a533b"
 },
 "nbformat": 3,
 "nbformat_minor": 0,
 "worksheets": [
  {
   "cells": [
    {
     "cell_type": "heading",
     "level": 1,
     "metadata": {},
     "source": [
      "MSM transition matrix sampling"
     ]
    },
    {
     "cell_type": "markdown",
     "metadata": {},
     "source": [
      "This notebook demonstrates usage of the transition matrix sampling algorithms\n",
      "\n",
      "A given count matrix, 'C.npy', estimated from alanine-dipeptide simulation data at lagtime $\\tau=6ps$ is used as input for the transition matrix sampling algorithm.\n",
      "\n",
      "Auxiliary functions in 'plotting.py' are used to generate figures of the estimated quantities."
     ]
    },
    {
     "cell_type": "heading",
     "level": 2,
     "metadata": {},
     "source": [
      "Use ipythons magic % commands to activate plotting within notebook cells"
     ]
    },
    {
     "cell_type": "code",
     "collapsed": false,
     "input": [
      "%matplotlib inline"
     ],
     "language": "python",
     "metadata": {},
     "outputs": [],
     "prompt_number": 53
    },
    {
     "cell_type": "markdown",
     "metadata": {},
     "source": [
      "Imports are ordered as\n",
      "--------------------\n",
      "\n",
      "1. standard library imports \n",
      "2. third party imports\n",
      "3. local application/library specific imports"
     ]
    },
    {
     "cell_type": "code",
     "collapsed": false,
     "input": [
      "import numpy as np"
     ],
     "language": "python",
     "metadata": {},
     "outputs": [],
     "prompt_number": 54
    },
    {
     "cell_type": "code",
     "collapsed": false,
     "input": [
      "from emma2.msm.io import read_matrix"
     ],
     "language": "python",
     "metadata": {},
     "outputs": [],
     "prompt_number": 55
    },
    {
     "cell_type": "code",
     "collapsed": false,
     "input": [
      "from emma2.msm.estimation import tmatrix, tmatrix_sampler, prior_rev, prior_const"
     ],
     "language": "python",
     "metadata": {},
     "outputs": [],
     "prompt_number": 56
    },
    {
     "cell_type": "code",
     "collapsed": false,
     "input": [
      "from emma2.msm.analysis import timescales"
     ],
     "language": "python",
     "metadata": {},
     "outputs": [],
     "prompt_number": 57
    },
    {
     "cell_type": "code",
     "collapsed": false,
     "input": [
      "import plotting"
     ],
     "language": "python",
     "metadata": {},
     "outputs": [],
     "prompt_number": 58
    },
    {
     "cell_type": "markdown",
     "metadata": {},
     "source": [
      "Load necessary input data\n",
      "-----------------------\n",
      "Use emma2.msm.io.read_matrix function to read dense arrays from ascii files. The returned object will be a dense array (numpy.ndarray)."
     ]
    },
    {
     "cell_type": "code",
     "collapsed": false,
     "input": [
      "C=read_matrix('C_sampling.dat')"
     ],
     "language": "python",
     "metadata": {},
     "outputs": [],
     "prompt_number": 59
    },
    {
     "cell_type": "code",
     "collapsed": false,
     "input": [
      "mu=read_matrix('mu_wham.dat')"
     ],
     "language": "python",
     "metadata": {},
     "outputs": [],
     "prompt_number": 60
    },
    {
     "cell_type": "markdown",
     "metadata": {},
     "source": [
      "Parameter definitions\n",
      "----------------------"
     ]
    },
    {
     "cell_type": "markdown",
     "metadata": {},
     "source": [
      "Lagtime, $\\tau=6ps$"
     ]
    },
    {
     "cell_type": "code",
     "collapsed": false,
     "input": [
      "tau=6"
     ],
     "language": "python",
     "metadata": {},
     "outputs": [],
     "prompt_number": 61
    },
    {
     "cell_type": "markdown",
     "metadata": {},
     "source": [
      "Number of implied time scales, $k=4$"
     ]
    },
    {
     "cell_type": "code",
     "collapsed": false,
     "input": [
      "k=4"
     ],
     "language": "python",
     "metadata": {},
     "outputs": [],
     "prompt_number": 62
    },
    {
     "cell_type": "markdown",
     "metadata": {},
     "source": [
      "Number of burn in steps to equilibrate sampler"
     ]
    },
    {
     "cell_type": "code",
     "collapsed": false,
     "input": [
      "dM=100000"
     ],
     "language": "python",
     "metadata": {},
     "outputs": [],
     "prompt_number": 63
    },
    {
     "cell_type": "markdown",
     "metadata": {},
     "source": [
      "Number of samples to generate"
     ]
    },
    {
     "cell_type": "code",
     "collapsed": false,
     "input": [
      "N=1000"
     ],
     "language": "python",
     "metadata": {},
     "outputs": [],
     "prompt_number": 64
    },
    {
     "cell_type": "markdown",
     "metadata": {},
     "source": [
      "Number of MCMC-steps to take between samples"
     ]
    },
    {
     "cell_type": "code",
     "collapsed": false,
     "input": [
      "dN=10000"
     ],
     "language": "python",
     "metadata": {},
     "outputs": [],
     "prompt_number": 65
    },
    {
     "cell_type": "markdown",
     "metadata": {},
     "source": [
      "Non reversible\n",
      "--------------"
     ]
    },
    {
     "cell_type": "markdown",
     "metadata": {},
     "source": [
      "Estimate maximum likelihood transition matrix and compute values of implied time-scales as reference for sampling"
     ]
    },
    {
     "cell_type": "code",
     "collapsed": false,
     "input": [
      "T_nrev=tmatrix(C)"
     ],
     "language": "python",
     "metadata": {},
     "outputs": [],
     "prompt_number": 66
    },
    {
     "cell_type": "code",
     "collapsed": false,
     "input": [
      "ts_nrev=timescales(T_nrev, k=k, tau=tau)"
     ],
     "language": "python",
     "metadata": {},
     "outputs": [],
     "prompt_number": 67
    },
    {
     "cell_type": "code",
     "collapsed": false,
     "input": [
      "print ts_nrev"
     ],
     "language": "python",
     "metadata": {},
     "outputs": [
      {
       "output_type": "stream",
       "stream": "stdout",
       "text": [
        "[           inf  1506.65156759    70.16511749    37.0941437 ]\n"
       ]
      }
     ],
     "prompt_number": 68
    },
    {
     "cell_type": "markdown",
     "metadata": {},
     "source": [
      "Create a emma2.msm.estimation.tmatrix_sampler object\n",
      "\n",
      "1. Add constant prior $b_{ij}=-1$ to count matrix\n",
      "2. Set the maximum likelihood estimator $T_{nrev}$ as starting point $T_0$ of the chain\n",
      "\n",
      "The constant prior ensures that the mean value of the chain corresponds to the maximum likelihood estimator for $N \\rightarrow \\infty$"
     ]
    },
    {
     "cell_type": "code",
     "collapsed": false,
     "input": [
      "sampler_nrev=tmatrix_sampler(C+prior_const(C, alpha=-1.0), T0=T_nrev)"
     ],
     "language": "python",
     "metadata": {},
     "outputs": [],
     "prompt_number": 69
    },
    {
     "cell_type": "markdown",
     "metadata": {},
     "source": [
      "Array for time scale sample"
     ]
    },
    {
     "cell_type": "code",
     "collapsed": false,
     "input": [
      "ts_sample_nrev=np.zeros((N, k))"
     ],
     "language": "python",
     "metadata": {},
     "outputs": [],
     "prompt_number": 70
    },
    {
     "cell_type": "markdown",
     "metadata": {},
     "source": [
      "Burn-in period of MCMC-sampler"
     ]
    },
    {
     "cell_type": "code",
     "collapsed": false,
     "input": [
      "sampler_nrev.sample(dM)"
     ],
     "language": "python",
     "metadata": {},
     "outputs": [
      {
       "metadata": {},
       "output_type": "pyout",
       "prompt_number": 71,
       "text": [
        "array([[ 0.,  0.,  0., ...,  0.,  0.,  0.],\n",
        "       [ 0.,  0.,  0., ...,  0.,  0.,  0.],\n",
        "       [ 0.,  0.,  0., ...,  0.,  0.,  0.],\n",
        "       ..., \n",
        "       [ 0.,  0.,  0., ...,  0.,  0.,  0.],\n",
        "       [ 0.,  0.,  0., ...,  0.,  0.,  0.],\n",
        "       [ 0.,  0.,  0., ...,  0.,  0.,  0.]])"
       ]
      }
     ],
     "prompt_number": 71
    },
    {
     "cell_type": "markdown",
     "metadata": {},
     "source": [
      "Sample transition matrix and compute $k$ leading time scales for lagtime $\\tau$"
     ]
    },
    {
     "cell_type": "code",
     "collapsed": false,
     "input": [
      "for i in range(N):\n",
      "    T=sampler_nrev.sample(dN)\n",
      "    ts_sample_nrev[i,:]=timescales(T, k=k, tau=tau)"
     ],
     "language": "python",
     "metadata": {},
     "outputs": [],
     "prompt_number": 72
    },
    {
     "cell_type": "code",
     "collapsed": false,
     "input": [
      "print ts_sample_nrev"
     ],
     "language": "python",
     "metadata": {},
     "outputs": [
      {
       "output_type": "stream",
       "stream": "stdout",
       "text": [
        "[[           inf  1508.76624395    70.27372168    36.16236911]\n",
        " [           inf  1522.12506614    70.28653472    36.36064228]\n",
        " [           inf  1492.84853204    70.27052381    35.49306401]\n",
        " ..., \n",
        " [           inf  1437.99416367    69.98970126    36.34145521]\n",
        " [           inf  1448.69820987    70.03651234    35.82991   ]\n",
        " [           inf  1452.24174486    69.95379129    36.04081679]]\n"
       ]
      }
     ],
     "prompt_number": 73
    },
    {
     "cell_type": "markdown",
     "metadata": {},
     "source": [
      "Sample mean $\\mathbf{E}(t_i)$\n"
     ]
    },
    {
     "cell_type": "code",
     "collapsed": false,
     "input": [
      "print np.mean(ts_sample_nrev[:,1:], axis=0)"
     ],
     "language": "python",
     "metadata": {},
     "outputs": [
      {
       "output_type": "stream",
       "stream": "stdout",
       "text": [
        "[ 1484.51215937    69.90862069    35.91870457]\n"
       ]
      }
     ],
     "prompt_number": 74
    },
    {
     "cell_type": "markdown",
     "metadata": {},
     "source": [
      "Sample standard deviation $std(t_i)$"
     ]
    },
    {
     "cell_type": "code",
     "collapsed": false,
     "input": [
      "print np.std(ts_sample_nrev[:,1:], axis=0)"
     ],
     "language": "python",
     "metadata": {},
     "outputs": [
      {
       "output_type": "stream",
       "stream": "stdout",
       "text": [
        "[ 58.5294338    0.40669703   1.8603499 ]\n"
       ]
      }
     ],
     "prompt_number": 75
    },
    {
     "cell_type": "markdown",
     "metadata": {},
     "source": [
      "Histogram of sample of largest implied time scales\n"
     ]
    },
    {
     "cell_type": "code",
     "collapsed": false,
     "input": [
      "plotting.timescale_histogram(ts_sample_nrev[:,1])"
     ],
     "language": "python",
     "metadata": {},
     "outputs": [
      {
       "metadata": {},
       "output_type": "display_data",
       "png": "[encoded data removed]",
       "text": [
        "<matplotlib.figure.Figure at 0x7f19c85ed850>"
       ]
      }
     ],
     "prompt_number": 76
    },
    {
     "cell_type": "markdown",
     "metadata": {},
     "source": [
      "Reversible\n",
      "----------"
     ]
    },
    {
     "cell_type": "markdown",
     "metadata": {},
     "source": [
      "Estimate maximum likelihood transition matrix and compute values of implied time-scales as reference for sampling"
     ]
    },
    {
     "cell_type": "code",
     "collapsed": false,
     "input": [
      "T_rev=tmatrix(C, reversible=True)"
     ],
     "language": "python",
     "metadata": {},
     "outputs": [],
     "prompt_number": 77
    },
    {
     "cell_type": "code",
     "collapsed": false,
     "input": [
      "ts_rev=timescales(T_rev, k=k, tau=tau)"
     ],
     "language": "python",
     "metadata": {},
     "outputs": [],
     "prompt_number": 78
    },
    {
     "cell_type": "code",
     "collapsed": false,
     "input": [
      "print ts_rev"
     ],
     "language": "python",
     "metadata": {},
     "outputs": [
      {
       "output_type": "stream",
       "stream": "stdout",
       "text": [
        "[           inf  1518.29184928    70.20868863    37.64215705]\n"
       ]
      }
     ],
     "prompt_number": 79
    },
    {
     "cell_type": "markdown",
     "metadata": {},
     "source": [
      "Create a emma2.msm.estimation.tmatrix_sampler object\n",
      "\n",
      "1. Add reversible prior $b_{ij}=-1$ if $i \\leq j$ to count matrix\n",
      "2. Set the maximum likelihood estimator $T_{rev}$ as starting point $T_0$ of the chain\n",
      "\n",
      "The reversible prior respects the fact that the degree of freedoms for the sampler correspond to the upper triangular part of the transition matrix "
     ]
    },
    {
     "cell_type": "code",
     "collapsed": false,
     "input": [
      "sampler_rev=tmatrix_sampler(C+prior_rev(C), reversible=True, T0=T_rev)"
     ],
     "language": "python",
     "metadata": {},
     "outputs": [],
     "prompt_number": 80
    },
    {
     "cell_type": "markdown",
     "metadata": {},
     "source": [
      "Array for time scale sample"
     ]
    },
    {
     "cell_type": "code",
     "collapsed": false,
     "input": [
      "ts_sample_rev=np.zeros((N, k))"
     ],
     "language": "python",
     "metadata": {},
     "outputs": [],
     "prompt_number": 81
    },
    {
     "cell_type": "markdown",
     "metadata": {},
     "source": [
      "Burn-in period of MCMC-sampler"
     ]
    },
    {
     "cell_type": "code",
     "collapsed": false,
     "input": [
      "sampler_rev.sample(dM)"
     ],
     "language": "python",
     "metadata": {},
     "outputs": [
      {
       "metadata": {},
       "output_type": "pyout",
       "prompt_number": 82,
       "text": [
        "array([[ 0.,  0.,  0., ...,  0.,  0.,  0.],\n",
        "       [ 0.,  0.,  0., ...,  0.,  0.,  0.],\n",
        "       [ 0.,  0.,  0., ...,  0.,  0.,  0.],\n",
        "       ..., \n",
        "       [ 0.,  0.,  0., ...,  0.,  0.,  0.],\n",
        "       [ 0.,  0.,  0., ...,  0.,  0.,  0.],\n",
        "       [ 0.,  0.,  0., ...,  0.,  0.,  0.]])"
       ]
      }
     ],
     "prompt_number": 82
    },
    {
     "cell_type": "code",
     "collapsed": false,
     "input": [
      "for i in range(N):\n",
      "    T=sampler_rev.sample(dN)\n",
      "    ts_sample_rev[i, :]=timescales(T, k=k, tau=tau)"
     ],
     "language": "python",
     "metadata": {},
     "outputs": [],
     "prompt_number": 83
    },
    {
     "cell_type": "code",
     "collapsed": false,
     "input": [
      "print ts_sample_rev"
     ],
     "language": "python",
     "metadata": {},
     "outputs": [
      {
       "output_type": "stream",
       "stream": "stdout",
       "text": [
        "[[           inf  1381.69160371    69.43155932    33.9256609 ]\n",
        " [           inf  1378.45883589    69.39155592    33.69095304]\n",
        " [           inf  1355.56432117    69.44561715    33.70345179]\n",
        " ..., \n",
        " [           inf  1049.17243376    65.98562247    33.42025944]\n",
        " [           inf  1046.39915289    65.98197478    34.22323196]\n",
        " [           inf  1045.76091203    66.01644435    33.33295089]]\n"
       ]
      }
     ],
     "prompt_number": 84
    },
    {
     "cell_type": "markdown",
     "metadata": {},
     "source": [
      "Sample mean $\\mathbf{E}(t_i)$\n"
     ]
    },
    {
     "cell_type": "code",
     "collapsed": false,
     "input": [
      "print np.mean(ts_sample_rev[:,1:], axis=0)"
     ],
     "language": "python",
     "metadata": {},
     "outputs": [
      {
       "output_type": "stream",
       "stream": "stdout",
       "text": [
        "[ 1052.56035213    66.56075955    32.14048714]\n"
       ]
      }
     ],
     "prompt_number": 85
    },
    {
     "cell_type": "markdown",
     "metadata": {},
     "source": [
      "Sample standard deviation $std(t_i)$"
     ]
    },
    {
     "cell_type": "code",
     "collapsed": false,
     "input": [
      "print np.std(ts_sample_rev[:,1:], axis=0)"
     ],
     "language": "python",
     "metadata": {},
     "outputs": [
      {
       "output_type": "stream",
       "stream": "stdout",
       "text": [
        "[ 64.75060488   0.71448133   1.46520008]\n"
       ]
      }
     ],
     "prompt_number": 86
    },
    {
     "cell_type": "markdown",
     "metadata": {},
     "source": [
      "Histogram of sample of largest implied time scales\n"
     ]
    },
    {
     "cell_type": "code",
     "collapsed": false,
     "input": [
      "plotting.timescale_histogram(ts_sample_rev[:,1])"
     ],
     "language": "python",
     "metadata": {},
     "outputs": [
      {
       "metadata": {},
       "output_type": "display_data",
       "png": "[encoded data removed]",
       "text": [
        "<matplotlib.figure.Figure at 0x7f19c8437790>"
       ]
      }
     ],
     "prompt_number": 87
    },
    {
     "cell_type": "markdown",
     "metadata": {},
     "source": [
      "Reversible with fixed stationary vector $\\mu$\n",
      "----------------------------------------------"
     ]
    },
    {
     "cell_type": "markdown",
     "metadata": {},
     "source": [
      "Estimate maximum likelihood transition matrix and compute values of implied time-scales as reference for sampling.\n",
      "\n",
      "We need to add a small offset to the diagonal in order to guarantee convergence of the estimation algorithm"
     ]
    },
    {
     "cell_type": "code",
     "collapsed": false,
     "input": [
      "T_mu=tmatrix(C+1e-10, reversible=True, mu=mu)"
     ],
     "language": "python",
     "metadata": {},
     "outputs": [],
     "prompt_number": 88
    },
    {
     "cell_type": "code",
     "collapsed": false,
     "input": [
      "ts_mu=timescales(T_mu, k=k, tau=tau)"
     ],
     "language": "python",
     "metadata": {},
     "outputs": [],
     "prompt_number": 89
    },
    {
     "cell_type": "code",
     "collapsed": false,
     "input": [
      "print ts_mu"
     ],
     "language": "python",
     "metadata": {},
     "outputs": [
      {
       "output_type": "stream",
       "stream": "stdout",
       "text": [
        "[           inf  1327.81195275    70.78464007    38.55859591]\n"
       ]
      }
     ],
     "prompt_number": 90
    },
    {
     "cell_type": "markdown",
     "metadata": {},
     "source": [
      "Create a emma2.msm.estimation.tmatrix_sampler object\n",
      "\n",
      "1. Add reversible prior $b_{ij}=-1$ if $i \\leq j$ to count matrix\n",
      "2. Set the maximum likelihood estimator $T_{mu}$ as starting point $T_0$ of the chain\n",
      "\n",
      "The reversible prior respects the fact that the degree of freedoms for the sampler correspond to the upper triangular part of the transition matrix "
     ]
    },
    {
     "cell_type": "code",
     "collapsed": false,
     "input": [
      "sampler_mu=tmatrix_sampler(C+prior_rev(C), reversible=True, mu=mu, T0=T_mu)"
     ],
     "language": "python",
     "metadata": {},
     "outputs": [],
     "prompt_number": 91
    },
    {
     "cell_type": "markdown",
     "metadata": {},
     "source": [
      "Array for time scale sample"
     ]
    },
    {
     "cell_type": "code",
     "collapsed": false,
     "input": [
      "ts_sample_mu=np.zeros((N, k))"
     ],
     "language": "python",
     "metadata": {},
     "outputs": [],
     "prompt_number": 92
    },
    {
     "cell_type": "markdown",
     "metadata": {},
     "source": [
      "Burn-in period of MCMC-sampler"
     ]
    },
    {
     "cell_type": "code",
     "collapsed": false,
     "input": [
      "sampler_mu.sample(dM)"
     ],
     "language": "python",
     "metadata": {},
     "outputs": [
      {
       "metadata": {},
       "output_type": "pyout",
       "prompt_number": 93,
       "text": [
        "array([[  3.60823884e-13,   3.14006295e-13,   2.01196645e-13, ...,\n",
        "          2.57869783e-13,   3.07032265e-13,   3.31608778e-13],\n",
        "       [  4.86342998e-12,   4.30486545e-12,   2.87701096e-12, ...,\n",
        "          3.60937135e-12,   4.22001950e-12,   4.51710434e-12],\n",
        "       [  3.59323276e-11,   3.31743041e-11,   2.49115458e-11, ...,\n",
        "          2.93895570e-11,   3.27344550e-11,   3.42497899e-11],\n",
        "       ..., \n",
        "       [  8.96726735e-12,   8.10376647e-12,   5.72253011e-12, ...,\n",
        "          6.97662317e-12,   7.96942331e-12,   8.43610349e-12],\n",
        "       [  4.23208782e-12,   3.75561270e-12,   2.52645258e-12, ...,\n",
        "          3.15891462e-12,   3.68302284e-12,   3.93694671e-12],\n",
        "       [  6.54812434e-12,   5.75899509e-12,   3.78690311e-12, ...,\n",
        "          4.79041496e-12,   5.64000878e-12,   6.05764993e-12]])"
       ]
      }
     ],
     "prompt_number": 93
    },
    {
     "cell_type": "code",
     "collapsed": false,
     "input": [
      "for i in range(N):\n",
      "    T=sampler_mu.sample(dN)\n",
      "    ts_sample_mu[i, :]=timescales(T, k=k, tau=tau)"
     ],
     "language": "python",
     "metadata": {},
     "outputs": [],
     "prompt_number": 94
    },
    {
     "cell_type": "markdown",
     "metadata": {},
     "source": [
      "Sample mean $\\mathbf{E}(t_i)$"
     ]
    },
    {
     "cell_type": "code",
     "collapsed": false,
     "input": [
      "print np.mean(ts_sample_mu[:,1:], axis=0)"
     ],
     "language": "python",
     "metadata": {},
     "outputs": [
      {
       "output_type": "stream",
       "stream": "stdout",
       "text": [
        "[ 1335.45704537    70.78780697    38.82499762]\n"
       ]
      }
     ],
     "prompt_number": 95
    },
    {
     "cell_type": "markdown",
     "metadata": {},
     "source": [
      "Sample standard deviation $std(t_i)$"
     ]
    },
    {
     "cell_type": "code",
     "collapsed": false,
     "input": [
      "print np.std(ts_sample_mu[:,1:], axis=0)"
     ],
     "language": "python",
     "metadata": {},
     "outputs": [
      {
       "output_type": "stream",
       "stream": "stdout",
       "text": [
        "[ 100.59986914    0.43681961    1.50133927]\n"
       ]
      }
     ],
     "prompt_number": 96
    },
    {
     "cell_type": "markdown",
     "metadata": {},
     "source": [
      "Histogram of sample of largest implied time scales\n"
     ]
    },
    {
     "cell_type": "code",
     "collapsed": false,
     "input": [
      "plotting.timescale_histogram(ts_sample_mu[:,1])"
     ],
     "language": "python",
     "metadata": {},
     "outputs": [
      {
       "metadata": {},
       "output_type": "display_data",
       "png": "[encoded data removed]",
       "text": [
        "<matplotlib.figure.Figure at 0x7f19c85edd10>"
       ]
      }
     ],
     "prompt_number": 97
    },
    {
     "cell_type": "markdown",
     "metadata": {},
     "source": [
      "Summary\n",
      "-------\n",
      "\n",
      "The emma2.msm.estimation.tmatrix_sampler can be used to obtain detailed information about the statisatical uncertainty of observables of interest, especially obervables of dynamical properties of the studied system such as implied time scales."
     ]
    },
    {
     "cell_type": "code",
     "collapsed": false,
     "input": [],
     "language": "python",
     "metadata": {},
     "outputs": [],
     "prompt_number": 97
    }
   ],
   "metadata": {}
  }
 ]
}