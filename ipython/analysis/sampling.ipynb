{
 "metadata": {
  "name": ""
 },
 "nbformat": 3,
 "nbformat_minor": 0,
 "worksheets": [
  {
   "cells": [
    {
     "cell_type": "heading",
     "level": 1,
     "metadata": {},
     "source": [
      "emma2 transition matrix sampling"
     ]
    },
    {
     "cell_type": "markdown",
     "metadata": {},
     "source": [
      "This notebook demonstrates usage of the transition matrix sampling algorithms\n",
      "\n",
      "A given count matrix, 'C.npy', estimated from alanine-dipeptide simulation data at lagtime $\\tau=6ps$ is used as input for the transition matrix sampling algorithm.\n",
      "\n",
      "Auxiliary functions in 'plotting.py' are used to generate figures of the estimated quantities."
     ]
    },
    {
     "cell_type": "heading",
     "level": 2,
     "metadata": {},
     "source": [
      "Use ipythons magic % commands to activate plotting within notebook cells"
     ]
    },
    {
     "cell_type": "code",
     "collapsed": false,
     "input": [
      "%matplotlib inline"
     ],
     "language": "python",
     "metadata": {},
     "outputs": [],
     "prompt_number": 95
    },
    {
     "cell_type": "markdown",
     "metadata": {},
     "source": [
      "Imports are ordered as\n",
      "--------------------\n",
      "\n",
      "1. standard library imports \n",
      "2. third party imports\n",
      "3. local application/library specific imports"
     ]
    },
    {
     "cell_type": "code",
     "collapsed": false,
     "input": [
      "import numpy as np"
     ],
     "language": "python",
     "metadata": {},
     "outputs": [],
     "prompt_number": 96
    },
    {
     "cell_type": "code",
     "collapsed": false,
     "input": [
      "from emma2.msm.io import read_matrix"
     ],
     "language": "python",
     "metadata": {},
     "outputs": [],
     "prompt_number": 97
    },
    {
     "cell_type": "code",
     "collapsed": false,
     "input": [
      "from emma2.msm.estimation import tmatrix, tmatrix_sampler, prior_rev, prior_const"
     ],
     "language": "python",
     "metadata": {},
     "outputs": [],
     "prompt_number": 98
    },
    {
     "cell_type": "code",
     "collapsed": false,
     "input": [
      "from emma2.msm.analysis import timescales"
     ],
     "language": "python",
     "metadata": {},
     "outputs": [],
     "prompt_number": 99
    },
    {
     "cell_type": "code",
     "collapsed": false,
     "input": [
      "import plotting"
     ],
     "language": "python",
     "metadata": {},
     "outputs": [],
     "prompt_number": 100
    },
    {
     "cell_type": "markdown",
     "metadata": {},
     "source": [
      "Load necessary input data\n",
      "-----------------------\n",
      "Use emma2.msm.io.read_matrix function to read dense arrays from ascii files. The returned object will be a dense array (numpy.ndarray)."
     ]
    },
    {
     "cell_type": "code",
     "collapsed": false,
     "input": [
      "C=read_matrix('C_sampling.dat')"
     ],
     "language": "python",
     "metadata": {},
     "outputs": [],
     "prompt_number": 101
    },
    {
     "cell_type": "code",
     "collapsed": false,
     "input": [
      "mu=read_matrix('mu_wham.dat')"
     ],
     "language": "python",
     "metadata": {},
     "outputs": [],
     "prompt_number": 102
    },
    {
     "cell_type": "markdown",
     "metadata": {},
     "source": [
      "Parameter definitions\n",
      "----------------------"
     ]
    },
    {
     "cell_type": "markdown",
     "metadata": {},
     "source": [
      "Lagtime, $\\tau=6ps$"
     ]
    },
    {
     "cell_type": "code",
     "collapsed": false,
     "input": [
      "tau=6"
     ],
     "language": "python",
     "metadata": {},
     "outputs": [],
     "prompt_number": 103
    },
    {
     "cell_type": "markdown",
     "metadata": {},
     "source": [
      "Number of implied time scales, $k=4$"
     ]
    },
    {
     "cell_type": "code",
     "collapsed": false,
     "input": [
      "k=4"
     ],
     "language": "python",
     "metadata": {},
     "outputs": [],
     "prompt_number": 104
    },
    {
     "cell_type": "markdown",
     "metadata": {},
     "source": [
      "Number of burn in steps to equilibrate sampler"
     ]
    },
    {
     "cell_type": "code",
     "collapsed": false,
     "input": [
      "dM=100000"
     ],
     "language": "python",
     "metadata": {},
     "outputs": [],
     "prompt_number": 105
    },
    {
     "cell_type": "markdown",
     "metadata": {},
     "source": [
      "Number of samples to generate"
     ]
    },
    {
     "cell_type": "code",
     "collapsed": false,
     "input": [
      "N=1000"
     ],
     "language": "python",
     "metadata": {},
     "outputs": [],
     "prompt_number": 106
    },
    {
     "cell_type": "markdown",
     "metadata": {},
     "source": [
      "Number of MCMC-steps to take between samples"
     ]
    },
    {
     "cell_type": "code",
     "collapsed": false,
     "input": [
      "dN=10000"
     ],
     "language": "python",
     "metadata": {},
     "outputs": [],
     "prompt_number": 107
    },
    {
     "cell_type": "markdown",
     "metadata": {},
     "source": [
      "Non reversible\n",
      "--------------"
     ]
    },
    {
     "cell_type": "markdown",
     "metadata": {},
     "source": [
      "Estimate maximum likelihood transition matrix and compute values of implied time-scales as reference for sampling"
     ]
    },
    {
     "cell_type": "code",
     "collapsed": false,
     "input": [
      "T_nrev=tmatrix(C)"
     ],
     "language": "python",
     "metadata": {},
     "outputs": [],
     "prompt_number": 108
    },
    {
     "cell_type": "code",
     "collapsed": false,
     "input": [
      "ts_nrev=timescales(T_nrev, k=k, tau=tau)"
     ],
     "language": "python",
     "metadata": {},
     "outputs": [],
     "prompt_number": 109
    },
    {
     "cell_type": "code",
     "collapsed": false,
     "input": [
      "print ts_nrev"
     ],
     "language": "python",
     "metadata": {},
     "outputs": [
      {
       "output_type": "stream",
       "stream": "stdout",
       "text": [
        "[           inf  1506.65156759    70.16511749    37.0941437 ]\n"
       ]
      }
     ],
     "prompt_number": 110
    },
    {
     "cell_type": "markdown",
     "metadata": {},
     "source": [
      "Create a emma2.msm.estimation.tmatrix_sampler object\n",
      "\n",
      "1. Add constanpt prior $b_{ij}=-1$ to count matrix\n",
      "2. Set the maximum likelihood estimator $T_{nrev}$ as starting point $T_0$ of the chain\n",
      "\n",
      "The constant prior ensures that the mean value of the chain corresponds to the maximum likelihood estimator for $N \\rightarrow \\infty$"
     ]
    },
    {
     "cell_type": "code",
     "collapsed": false,
     "input": [
      "sampler_nrev=tmatrix_sampler(C+prior_const(C, alpha=-1.0), T0=T_nrev)"
     ],
     "language": "python",
     "metadata": {},
     "outputs": [],
     "prompt_number": 111
    },
    {
     "cell_type": "markdown",
     "metadata": {},
     "source": [
      "Array for time scale sample"
     ]
    },
    {
     "cell_type": "code",
     "collapsed": false,
     "input": [
      "ts_sample_nrev=np.zeros((N, k))"
     ],
     "language": "python",
     "metadata": {},
     "outputs": [],
     "prompt_number": 112
    },
    {
     "cell_type": "markdown",
     "metadata": {},
     "source": [
      "Burn-in period of MCMC-sampler"
     ]
    },
    {
     "cell_type": "code",
     "collapsed": false,
     "input": [
      "sampler_nrev.sample(dM)"
     ],
     "language": "python",
     "metadata": {},
     "outputs": [
      {
       "metadata": {},
       "output_type": "pyout",
       "prompt_number": 113,
       "text": [
        "array([[ 0.,  0.,  0., ...,  0.,  0.,  0.],\n",
        "       [ 0.,  0.,  0., ...,  0.,  0.,  0.],\n",
        "       [ 0.,  0.,  0., ...,  0.,  0.,  0.],\n",
        "       ..., \n",
        "       [ 0.,  0.,  0., ...,  0.,  0.,  0.],\n",
        "       [ 0.,  0.,  0., ...,  0.,  0.,  0.],\n",
        "       [ 0.,  0.,  0., ...,  0.,  0.,  0.]])"
       ]
      }
     ],
     "prompt_number": 113
    },
    {
     "cell_type": "markdown",
     "metadata": {},
     "source": [
      "Sample transition matrix and compute $k$ leading time scales for lagtime $\\tau$"
     ]
    },
    {
     "cell_type": "code",
     "collapsed": false,
     "input": [
      "for i in range(N):\n",
      "    T=sampler_nrev.sample(dN)\n",
      "    ts_sample_nrev[i,:]=timescales(T, k=k, tau=tau)"
     ],
     "language": "python",
     "metadata": {},
     "outputs": [],
     "prompt_number": 114
    },
    {
     "cell_type": "code",
     "collapsed": false,
     "input": [
      "print ts_sample_nrev"
     ],
     "language": "python",
     "metadata": {},
     "outputs": [
      {
       "output_type": "stream",
       "stream": "stdout",
       "text": [
        "[[           inf  1523.62053936    70.18136883    36.13058926]\n",
        " [           inf  1531.81561322    70.30761513    36.61715594]\n",
        " [           inf  1530.25508768    70.23810895    36.43559241]\n",
        " ..., \n",
        " [           inf  1510.36205777    70.69333587    38.3504228 ]\n",
        " [           inf  1515.47253149    70.66470076    37.97898957]\n",
        " [           inf  1508.91923743    70.61223017    38.2184552 ]]\n"
       ]
      }
     ],
     "prompt_number": 115
    },
    {
     "cell_type": "markdown",
     "metadata": {},
     "source": [
      "Sample mean $\\mathbf{E}(t_i)$\n"
     ]
    },
    {
     "cell_type": "code",
     "collapsed": false,
     "input": [
      "print np.mean(ts_sample_nrev[:,1:], axis=0)"
     ],
     "language": "python",
     "metadata": {},
     "outputs": [
      {
       "output_type": "stream",
       "stream": "stdout",
       "text": [
        "[ 1509.89182529    70.08466444    36.56764228]\n"
       ]
      }
     ],
     "prompt_number": 116
    },
    {
     "cell_type": "markdown",
     "metadata": {},
     "source": [
      "Sample standard deviation $std(t_i)$"
     ]
    },
    {
     "cell_type": "code",
     "collapsed": false,
     "input": [
      "print np.std(ts_sample_nrev[:,1:], axis=0)"
     ],
     "language": "python",
     "metadata": {},
     "outputs": [
      {
       "output_type": "stream",
       "stream": "stdout",
       "text": [
        "[ 52.18985356   0.47968079   1.788456  ]\n"
       ]
      }
     ],
     "prompt_number": 117
    },
    {
     "cell_type": "markdown",
     "metadata": {},
     "source": [
      "Histogram of sample of largest implied time scales\n"
     ]
    },
    {
     "cell_type": "code",
     "collapsed": false,
     "input": [
      "plotting.timescale_histogram(ts_sample_nrev[:,1])"
     ],
     "language": "python",
     "metadata": {},
     "outputs": [
      {
       "metadata": {},
       "output_type": "display_data",
       "png": "[encoded data removed]",
       "text": [
        "<matplotlib.figure.Figure at 0x4561a90>"
       ]
      }
     ],
     "prompt_number": 118
    },
    {
     "cell_type": "markdown",
     "metadata": {},
     "source": [
      "Reversible\n",
      "----------"
     ]
    },
    {
     "cell_type": "markdown",
     "metadata": {},
     "source": [
      "Estimate maximum likelihood transition matrix and compute values of implied time-scales as reference for sampling"
     ]
    },
    {
     "cell_type": "code",
     "collapsed": false,
     "input": [
      "T_rev=tmatrix(C, reversible=True)"
     ],
     "language": "python",
     "metadata": {},
     "outputs": [],
     "prompt_number": 119
    },
    {
     "cell_type": "code",
     "collapsed": false,
     "input": [
      "ts_rev=timescales(T_rev, k=k, tau=tau)"
     ],
     "language": "python",
     "metadata": {},
     "outputs": [],
     "prompt_number": 120
    },
    {
     "cell_type": "code",
     "collapsed": false,
     "input": [
      "print ts_rev"
     ],
     "language": "python",
     "metadata": {},
     "outputs": [
      {
       "output_type": "stream",
       "stream": "stdout",
       "text": [
        "[           inf  1518.29184928    70.20868863    37.64215705]\n"
       ]
      }
     ],
     "prompt_number": 121
    },
    {
     "cell_type": "markdown",
     "metadata": {},
     "source": [
      "Create a emma2.msm.estimation.tmatrix_sampler object\n",
      "\n",
      "1. Add reversible prior $b_{ij}=-1$ if $i \\leq j$ to count matrix\n",
      "2. Set the maximum likelihood estimator $T_{rev}$ as starting point $T_0$ of the chain\n",
      "\n",
      "The reversible prior respects the fact that the degree of freedoms for the sampler correspond to the upper triangular part of the transition matrix "
     ]
    },
    {
     "cell_type": "code",
     "collapsed": false,
     "input": [
      "sampler_rev=tmatrix_sampler(C+prior_rev(C), reversible=True, T0=T_rev)"
     ],
     "language": "python",
     "metadata": {},
     "outputs": [],
     "prompt_number": 122
    },
    {
     "cell_type": "markdown",
     "metadata": {},
     "source": [
      "Array for time scale sample"
     ]
    },
    {
     "cell_type": "code",
     "collapsed": false,
     "input": [
      "ts_sample_rev=np.zeros((N, k))"
     ],
     "language": "python",
     "metadata": {},
     "outputs": [],
     "prompt_number": 123
    },
    {
     "cell_type": "markdown",
     "metadata": {},
     "source": [
      "Burn-in period of MCMC-sampler"
     ]
    },
    {
     "cell_type": "code",
     "collapsed": false,
     "input": [
      "sampler_rev.sample(dM)"
     ],
     "language": "python",
     "metadata": {},
     "outputs": [
      {
       "metadata": {},
       "output_type": "pyout",
       "prompt_number": 124,
       "text": [
        "array([[ 0.,  0.,  0., ...,  0.,  0.,  0.],\n",
        "       [ 0.,  0.,  0., ...,  0.,  0.,  0.],\n",
        "       [ 0.,  0.,  0., ...,  0.,  0.,  0.],\n",
        "       ..., \n",
        "       [ 0.,  0.,  0., ...,  0.,  0.,  0.],\n",
        "       [ 0.,  0.,  0., ...,  0.,  0.,  0.],\n",
        "       [ 0.,  0.,  0., ...,  0.,  0.,  0.]])"
       ]
      }
     ],
     "prompt_number": 124
    },
    {
     "cell_type": "code",
     "collapsed": false,
     "input": [
      "for i in range(N):\n",
      "    T=sampler_rev.sample(dN)\n",
      "    ts_sample_rev[i, :]=timescales(T, k=k, tau=tau)"
     ],
     "language": "python",
     "metadata": {},
     "outputs": [],
     "prompt_number": 125
    },
    {
     "cell_type": "code",
     "collapsed": false,
     "input": [
      "print ts_sample_rev"
     ],
     "language": "python",
     "metadata": {},
     "outputs": [
      {
       "output_type": "stream",
       "stream": "stdout",
       "text": [
        "[[           inf  1445.05681096    69.13636023    33.68592379]\n",
        " [           inf  1446.34034439    69.28107279    33.71247534]\n",
        " [           inf  1431.54962644    69.24171718    32.75713451]\n",
        " ..., \n",
        " [           inf  1147.15246327    66.49330814    33.63566176]\n",
        " [           inf  1143.60399565    66.42440015    33.21366407]\n",
        " [           inf  1139.75983395    66.32153454    33.14362809]]\n"
       ]
      }
     ],
     "prompt_number": 126
    },
    {
     "cell_type": "markdown",
     "metadata": {},
     "source": [
      "Sample mean $\\mathbf{E}(t_i)$\n"
     ]
    },
    {
     "cell_type": "code",
     "collapsed": false,
     "input": [
      "print np.mean(ts_sample_rev[:,1:], axis=0)"
     ],
     "language": "python",
     "metadata": {},
     "outputs": [
      {
       "output_type": "stream",
       "stream": "stdout",
       "text": [
        "[ 1119.74020716    66.47766601    32.3483812 ]\n"
       ]
      }
     ],
     "prompt_number": 127
    },
    {
     "cell_type": "markdown",
     "metadata": {},
     "source": [
      "Sample standard deviation $std(t_i)$"
     ]
    },
    {
     "cell_type": "code",
     "collapsed": false,
     "input": [
      "print np.std(ts_sample_rev[:,1:], axis=0)"
     ],
     "language": "python",
     "metadata": {},
     "outputs": [
      {
       "output_type": "stream",
       "stream": "stdout",
       "text": [
        "[ 111.22952655    0.60404229    1.64835998]\n"
       ]
      }
     ],
     "prompt_number": 128
    },
    {
     "cell_type": "markdown",
     "metadata": {},
     "source": [
      "Histogram of sample of largest implied time scales\n"
     ]
    },
    {
     "cell_type": "code",
     "collapsed": false,
     "input": [
      "plotting.timescale_histogram(ts_sample_rev[:,1])"
     ],
     "language": "python",
     "metadata": {},
     "outputs": [
      {
       "metadata": {},
       "output_type": "display_data",
       "png": "[encoded data removed]",
       "text": [
        "<matplotlib.figure.Figure at 0x455b2d0>"
       ]
      }
     ],
     "prompt_number": 129
    },
    {
     "cell_type": "markdown",
     "metadata": {},
     "source": [
      "Reversible with fixed stationary vector $\\mu$\n",
      "----------------------------------------------"
     ]
    },
    {
     "cell_type": "markdown",
     "metadata": {},
     "source": [
      "Estimate maximum likelihood transition matrix and compute values of implied time-scales as reference for sampling.\n",
      "\n",
      "We need to add a small offset to the diagonal in order to guarantee convergence of the estimation algorithm"
     ]
    },
    {
     "cell_type": "code",
     "collapsed": false,
     "input": [
      "T_mu=tmatrix(C+1e-10, reversible=True, mu=mu)"
     ],
     "language": "python",
     "metadata": {},
     "outputs": [],
     "prompt_number": 130
    },
    {
     "cell_type": "code",
     "collapsed": false,
     "input": [
      "ts_mu=timescales(T_mu, k=k, tau=tau)"
     ],
     "language": "python",
     "metadata": {},
     "outputs": [],
     "prompt_number": 131
    },
    {
     "cell_type": "code",
     "collapsed": false,
     "input": [
      "print ts_mu"
     ],
     "language": "python",
     "metadata": {},
     "outputs": [
      {
       "output_type": "stream",
       "stream": "stdout",
       "text": [
        "[           inf  1327.81195275    70.78464007    38.55859591]\n"
       ]
      }
     ],
     "prompt_number": 132
    },
    {
     "cell_type": "markdown",
     "metadata": {},
     "source": [
      "Create a emma2.msm.estimation.tmatrix_sampler object\n",
      "\n",
      "1. Add reversible prior $b_{ij}=-1$ if $i \\leq j$ to count matrix\n",
      "2. Set the maximum likelihood estimator $T_{mu}$ as starting point $T_0$ of the chain\n",
      "\n",
      "The reversible prior respects the fact that the degree of freedoms for the sampler correspond to the upper triangular part of the transition matrix "
     ]
    },
    {
     "cell_type": "code",
     "collapsed": false,
     "input": [
      "sampler_mu=tmatrix_sampler(C, reversible=True, mu=mu, T0=T_mu)"
     ],
     "language": "python",
     "metadata": {},
     "outputs": [],
     "prompt_number": 133
    },
    {
     "cell_type": "markdown",
     "metadata": {},
     "source": [
      "Array for time scale sample"
     ]
    },
    {
     "cell_type": "code",
     "collapsed": false,
     "input": [
      "ts_sample_mu=np.zeros((N, k))"
     ],
     "language": "python",
     "metadata": {},
     "outputs": [],
     "prompt_number": 134
    },
    {
     "cell_type": "markdown",
     "metadata": {},
     "source": [
      "Burn-in period of MCMC-sampler"
     ]
    },
    {
     "cell_type": "code",
     "collapsed": false,
     "input": [
      "sampler_mu.sample(dM)"
     ],
     "language": "python",
     "metadata": {},
     "outputs": [
      {
       "metadata": {},
       "output_type": "pyout",
       "prompt_number": 135,
       "text": [
        "array([[  3.15211269e-03,   6.54292774e-13,   7.85841550e-06, ...,\n",
        "          2.80143228e-05,   3.32466012e-04,   3.17409915e-05],\n",
        "       [  1.01338959e-11,   2.81134449e-03,   7.51308799e-06, ...,\n",
        "          1.02442096e-03,   1.33563066e-03,   5.53528321e-04],\n",
        "       [  1.40345859e-03,   8.66320875e-05,   9.15839500e-03, ...,\n",
        "          1.72201038e-03,   7.27324726e-05,   5.28386782e-08],\n",
        "       ..., \n",
        "       [  9.74181306e-04,   2.30003161e-03,   3.35297882e-04, ...,\n",
        "          5.47792917e-03,   2.46637650e-04,   2.40901329e-03],\n",
        "       [  4.58266287e-03,   1.18864652e-03,   5.61350857e-06, ...,\n",
        "          9.77620647e-05,   1.38164571e-04,   9.00568885e-06],\n",
        "       [  6.26774598e-04,   7.05710260e-04,   5.84222429e-09, ...,\n",
        "          1.36795065e-03,   1.29014101e-05,   5.45842039e-04]])"
       ]
      }
     ],
     "prompt_number": 135
    },
    {
     "cell_type": "code",
     "collapsed": false,
     "input": [
      "for i in range(N):\n",
      "    T=sampler_mu.sample(dN)\n",
      "    ts_sample_mu[i, :]=timescales(T, k=k, tau=tau)"
     ],
     "language": "python",
     "metadata": {},
     "outputs": [],
     "prompt_number": 136
    },
    {
     "cell_type": "markdown",
     "metadata": {},
     "source": [
      "Sample mean $\\mathbf{E}(t_i)$\n"
     ]
    },
    {
     "cell_type": "code",
     "collapsed": false,
     "input": [
      "print np.mean(ts_sample_mu[:,1:], axis=0)"
     ],
     "language": "python",
     "metadata": {},
     "outputs": [
      {
       "output_type": "stream",
       "stream": "stdout",
       "text": [
        "[ 104.20588998   63.29244331   11.14867187]\n"
       ]
      }
     ],
     "prompt_number": 137
    },
    {
     "cell_type": "markdown",
     "metadata": {},
     "source": [
      "Sample standard deviation $std(t_i)$"
     ]
    },
    {
     "cell_type": "code",
     "collapsed": false,
     "input": [
      "print np.std(ts_sample_mu[:,1:], axis=0)"
     ],
     "language": "python",
     "metadata": {},
     "outputs": [
      {
       "output_type": "stream",
       "stream": "stdout",
       "text": [
        "[ 1.75674698  0.37978198  0.34169155]\n"
       ]
      }
     ],
     "prompt_number": 138
    },
    {
     "cell_type": "markdown",
     "metadata": {},
     "source": [
      "Histogram of sample of largest implied time scales\n"
     ]
    },
    {
     "cell_type": "code",
     "collapsed": false,
     "input": [
      "plotting.timescale_histogram(ts_sample_mu[:,1])"
     ],
     "language": "python",
     "metadata": {},
     "outputs": [
      {
       "metadata": {},
       "output_type": "display_data",
       "png": "[encoded data removed]",
       "text": [
        "<matplotlib.figure.Figure at 0x53fe250>"
       ]
      }
     ],
     "prompt_number": 139
    },
    {
     "cell_type": "markdown",
     "metadata": {},
     "source": [
      "Summary\n",
      "-------\n",
      "\n",
      "The emma2.msm.estimation.tmatrix_sampler can be used to obtain detailed information about the statisatical uncertainty of observables of interest, especially obervables of dynamical properties of the studied system such as implied time scales."
     ]
    },
    {
     "cell_type": "code",
     "collapsed": false,
     "input": [],
     "language": "python",
     "metadata": {},
     "outputs": []
    }
   ],
   "metadata": {}
  }
 ]
}