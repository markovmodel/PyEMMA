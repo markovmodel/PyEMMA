{
 "metadata": {
  "name": "",
  "signature": "sha256:14528db6998f887ac0c5d5a938630b9565a32f41d6fe1f9c11e8dee8372564fc"
 },
 "nbformat": 3,
 "nbformat_minor": 0,
 "worksheets": [
  {
   "cells": [
    {
     "cell_type": "markdown",
     "metadata": {},
     "source": [
      "Fingerprint analysis for alanine-dipeptide\n",
      "============================================================\n",
      "\n",
      "This notebook demonstrates usage of MSM for the computation of fingerprints. Fingerprints allow to compare computer simulations to experimental studies.\n",
      "\n",
      "A given MSM, estimated from alanine-dipeptide simulation data at lagtime $\\tau=6ps$, is used as an example to carry out analysis.\n",
      "\n",
      " \n",
      "\n",
      "The necessary inputs are:\n",
      "\n",
      " \n",
      "\n",
      "1. the transition matrix, 'T.dat'\n",
      "\n",
      "2. the centers of the $(\\phi, \\psi)$ dihedral angle space regular grid discretization, 'grid_centers20x20.dat'\n",
      "\n",
      "3. the largest set of connected microstates, 'lcc.dat'\n",
      "\n",
      " \n",
      "\n",
      "Auxiliary functions in 'plotting.py' are used to generate figures of the estimated quantities."
     ]
    },
    {
     "cell_type": "markdown",
     "metadata": {},
     "source": [
      "Use ipythons magic % commands to activate plotting within notebook cells\n",
      "-----------------------------------------------------------------"
     ]
    },
    {
     "cell_type": "code",
     "collapsed": false,
     "input": [
      "%matplotlib inline"
     ],
     "language": "python",
     "metadata": {},
     "outputs": [],
     "prompt_number": 1
    },
    {
     "cell_type": "markdown",
     "metadata": {},
     "source": [
      "Imports are ordered as\n",
      "--------------------\n",
      "\n",
      "1. standard library imports \n",
      "2. third party imports\n",
      "3. local application/library specific imports"
     ]
    },
    {
     "cell_type": "code",
     "collapsed": false,
     "input": [
      "import numpy as np"
     ],
     "language": "python",
     "metadata": {},
     "outputs": [],
     "prompt_number": 2
    },
    {
     "cell_type": "code",
     "collapsed": false,
     "input": [
      "from pyemma.msm.io import read_matrix"
     ],
     "language": "python",
     "metadata": {},
     "outputs": [],
     "prompt_number": 3
    },
    {
     "cell_type": "code",
     "collapsed": false,
     "input": [
      "from pyemma.msm.analysis import stationary_distribution, fingerprint_relaxation"
     ],
     "language": "python",
     "metadata": {},
     "outputs": [],
     "prompt_number": 4
    },
    {
     "cell_type": "code",
     "collapsed": false,
     "input": [
      "import plotting"
     ],
     "language": "python",
     "metadata": {},
     "outputs": [],
     "prompt_number": 5
    },
    {
     "cell_type": "code",
     "collapsed": false,
     "input": [
      "import util"
     ],
     "language": "python",
     "metadata": {},
     "outputs": [],
     "prompt_number": 6
    },
    {
     "cell_type": "markdown",
     "metadata": {},
     "source": [
      "Load necessary input data\n",
      "-----------------------\n",
      "Use pyemma.msm.io.read_matrix function to read dense arrays from ascii files. The returned objects will be dense arrays (numpy.ndarray)."
     ]
    },
    {
     "cell_type": "code",
     "collapsed": false,
     "input": [
      "T=read_matrix('T.dat')"
     ],
     "language": "python",
     "metadata": {},
     "outputs": [],
     "prompt_number": 7
    },
    {
     "cell_type": "code",
     "collapsed": false,
     "input": [
      "lcc=read_matrix('lcc.dat', dtype=int)"
     ],
     "language": "python",
     "metadata": {},
     "outputs": [],
     "prompt_number": 8
    },
    {
     "cell_type": "code",
     "collapsed": false,
     "input": [
      "grid=read_matrix('grid_centers20x20.dat')"
     ],
     "language": "python",
     "metadata": {},
     "outputs": [],
     "prompt_number": 9
    },
    {
     "cell_type": "code",
     "collapsed": false,
     "input": [
      "centers=grid[lcc, :]"
     ],
     "language": "python",
     "metadata": {},
     "outputs": [],
     "prompt_number": 10
    },
    {
     "cell_type": "markdown",
     "metadata": {},
     "source": [
      "Compute the stationary distribution"
     ]
    },
    {
     "cell_type": "code",
     "collapsed": false,
     "input": [
      "mu=stationary_distribution(T)"
     ],
     "language": "python",
     "metadata": {},
     "outputs": [],
     "prompt_number": 11
    },
    {
     "cell_type": "markdown",
     "metadata": {},
     "source": [
      "Metastable sets\n",
      "----------------\n",
      "The two metastable sets $C_5$ and $C_7^{ax}$ in the dihedral angle plane are used to carry out the fingerprint analysis.\n",
      "\n",
      "The $C_5$-conformation can be found with high probability in equilibrium while the $C_7^{ax}$ conformation is only rarely visited."
     ]
    },
    {
     "cell_type": "code",
     "collapsed": false,
     "input": [
      "C5=[20, 40, 36, 37, 38, 39, 56, 57, 58, 59]"
     ],
     "language": "python",
     "metadata": {},
     "outputs": [],
     "prompt_number": 12
    },
    {
     "cell_type": "code",
     "collapsed": false,
     "input": [
      "C7ax=[253, 254, 273, 252, 272, 251, 271]"
     ],
     "language": "python",
     "metadata": {},
     "outputs": [],
     "prompt_number": 13
    },
    {
     "cell_type": "markdown",
     "metadata": {},
     "source": [
      "Use an utility object to map the states in the above set definitions to the corresponding states in the largest connected component."
     ]
    },
    {
     "cell_type": "code",
     "collapsed": false,
     "input": [
      "lccmap=util.MapToConnectedStateLabels(lcc)"
     ],
     "language": "python",
     "metadata": {},
     "outputs": [],
     "prompt_number": 14
    },
    {
     "cell_type": "code",
     "collapsed": false,
     "input": [
      "C5map=lccmap.map(C5)\n",
      "C7axmap=lccmap.map(C7ax)    "
     ],
     "language": "python",
     "metadata": {},
     "outputs": [],
     "prompt_number": 15
    },
    {
     "cell_type": "markdown",
     "metadata": {},
     "source": [
      "Observables\n",
      "------------\n",
      "\n",
      "Observable obs1 indicates the system being in conformation $C_5$ while obs2 indicates the system to be in the $C_7^{ax}$ conformation."
     ]
    },
    {
     "cell_type": "code",
     "collapsed": false,
     "input": [
      "obs1=np.zeros(T.shape[0])\n",
      "obs1[C5map]=1.0"
     ],
     "language": "python",
     "metadata": {},
     "outputs": [],
     "prompt_number": 16
    },
    {
     "cell_type": "code",
     "collapsed": false,
     "input": [
      "obs2=np.zeros(T.shape[0])\n",
      "obs2[C7axmap]=1.0"
     ],
     "language": "python",
     "metadata": {},
     "outputs": [],
     "prompt_number": 17
    },
    {
     "cell_type": "markdown",
     "metadata": {},
     "source": [
      "Initial distribution\n",
      "--------------------\n",
      "The initial distribution $p_0$ is concentrated on the $C_7^{ax}$ conformation. \n",
      "\n",
      "This distribution corresponds to an experiment in which the system has been driven out of equilibrium and is relaxing from the $C_7^{ax}$ conformation."
     ]
    },
    {
     "cell_type": "code",
     "collapsed": false,
     "input": [
      "p0=np.zeros(T.shape[0])\n",
      "p0[C7axmap]=mu[C7axmap]/mu[C7axmap].sum()"
     ],
     "language": "python",
     "metadata": {},
     "outputs": [],
     "prompt_number": 18
    },
    {
     "cell_type": "markdown",
     "metadata": {},
     "source": [
      "Fingerprint relaxation\n",
      "----------------------"
     ]
    },
    {
     "cell_type": "markdown",
     "metadata": {},
     "source": [
      "Compute fingerprint for obs1.\n",
      "\n",
      "The fingerprint spectrum shows large amplitudes only for very fast processes. \n",
      "There is no slow process once the system reaches equilibrium and frequently visits the conformation $C_5$."
     ]
    },
    {
     "cell_type": "code",
     "collapsed": false,
     "input": [
      "ts, a=fingerprint_relaxation(T, p0, obs1)    "
     ],
     "language": "python",
     "metadata": {},
     "outputs": [
      {
       "output_type": "stream",
       "stream": "stderr",
       "text": [
        "/home/marscher/workspace/pyemma/emma2/msm/analysis/dense/decomposition.py:319: ImaginaryEigenValueWarning: Using eigenvalues with non-zero imaginary part for implied time scale computation\n",
        "  'for implied time scale computation', ImaginaryEigenValueWarning)\n",
        "/home/marscher/workspace/pyemma/emma2/msm/analysis/dense/fingerprints.py:97: ComplexWarning: Casting complex values to real discards the imaginary part\n",
        "  amplitudes[i] = np.dot(p0, R[:,i]) * np.dot(L[i], obs)\n"
       ]
      }
     ],
     "prompt_number": 19
    },
    {
     "cell_type": "code",
     "collapsed": false,
     "input": [
      "plotting.amplitudes(a)"
     ],
     "language": "python",
     "metadata": {},
     "outputs": [
      {
       "metadata": {},
       "output_type": "display_data",
       "png": "[encoded data removed]",
       "text": [
        "<matplotlib.figure.Figure at 0x7f353443d1d0>"
       ]
      }
     ],
     "prompt_number": 20
    },
    {
     "cell_type": "markdown",
     "metadata": {},
     "source": [
      "Compute fingerprint for obs2\n",
      "\n",
      "The fingerprint shows large amplitudes for slow processes corresponding to the relaxation of the system from the initial non-equilibrium distribution $p_0$ towards equilibrium.\n",
      "\n",
      "The value of the observable decays with the second slowest time scale $t_2$ in the long run. This due to the fact that most of the intial probability will be shifted to the high probaility conformations. "
     ]
    },
    {
     "cell_type": "code",
     "collapsed": false,
     "input": [
      "ts, a=fingerprint_relaxation(T, p0, obs2)"
     ],
     "language": "python",
     "metadata": {},
     "outputs": [],
     "prompt_number": 21
    },
    {
     "cell_type": "code",
     "collapsed": false,
     "input": [
      "plotting.amplitudes(a)"
     ],
     "language": "python",
     "metadata": {},
     "outputs": [
      {
       "metadata": {},
       "output_type": "display_data",
       "png": "[encoded data removed]",
       "text": [
        "<matplotlib.figure.Figure at 0x7f3534446890>"
       ]
      }
     ],
     "prompt_number": 22
    },
    {
     "cell_type": "code",
     "collapsed": false,
     "input": [],
     "language": "python",
     "metadata": {},
     "outputs": [],
     "prompt_number": 22
    }
   ],
   "metadata": {}
  }
 ]
}