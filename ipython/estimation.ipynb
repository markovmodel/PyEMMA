{
 "metadata": {
  "name": ""
 },
 "nbformat": 3,
 "nbformat_minor": 0,
 "worksheets": [
  {
   "cells": [
    {
     "cell_type": "heading",
     "level": 1,
     "metadata": {},
     "source": [
      "Emma2 - Estimation of a Markov model for Alanine-Dipeptide (already discretized trajectory)"
     ]
    },
    {
     "cell_type": "code",
     "collapsed": false,
     "input": [
      "from emma2.msm.io import read_dtraj\n",
      "from emma2.msm.estimation import cmatrix, connected_cmatrix, tmatrix\n",
      "import matplotlib.pyplot as plt"
     ],
     "language": "python",
     "metadata": {},
     "outputs": []
    },
    {
     "cell_type": "heading",
     "level": 2,
     "metadata": {},
     "source": [
      "Read discretized trajectory, $dt=1ps$, $T = 1000ns$"
     ]
    },
    {
     "cell_type": "code",
     "collapsed": false,
     "input": [
      "dtraj = read_dtraj('resources/dihedral_dt1ps_T1000ns_1.disctraj')"
     ],
     "language": "python",
     "metadata": {},
     "outputs": []
    },
    {
     "cell_type": "code",
     "collapsed": false,
     "input": [
      "dtraj"
     ],
     "language": "python",
     "metadata": {},
     "outputs": []
    },
    {
     "cell_type": "heading",
     "level": 2,
     "metadata": {},
     "source": [
      "Count matrix at lagtime $\\tau = 6 ps$"
     ]
    },
    {
     "cell_type": "code",
     "collapsed": false,
     "input": [
      "C_slide = cmatrix(dtraj, 6, sliding = True)\n",
      "C_slide2 = cmatrix(dtraj, 60, sliding = True)\n",
      "C = cmatrix(dtraj, 6, sliding = False)\n",
      "C60 = cmatrix(dtraj, 60, sliding = False)"
     ],
     "language": "python",
     "metadata": {},
     "outputs": []
    },
    {
     "cell_type": "heading",
     "level": 4,
     "metadata": {},
     "source": [
      "Efficient construction and storage using sparse coordinate list (COO) format"
     ]
    },
    {
     "cell_type": "code",
     "collapsed": false,
     "input": [
      "C, C60, C_slide, C_slide2"
     ],
     "language": "python",
     "metadata": {},
     "outputs": []
    },
    {
     "cell_type": "heading",
     "level": 2,
     "metadata": {},
     "source": [
      "Count matrix of largest connected component"
     ]
    },
    {
     "cell_type": "code",
     "collapsed": false,
     "input": [
      "C_cc = connected_cmatrix(C)"
     ],
     "language": "python",
     "metadata": {},
     "outputs": []
    },
    {
     "cell_type": "heading",
     "level": 4,
     "metadata": {},
     "source": [
      "Extremely fast computation of connected component using scipy.csgraph library"
     ]
    },
    {
     "cell_type": "code",
     "collapsed": false,
     "input": [
      "C_cc"
     ],
     "language": "python",
     "metadata": {},
     "outputs": []
    },
    {
     "cell_type": "heading",
     "level": 2,
     "metadata": {},
     "source": [
      "Maximum likelihood transition matrix"
     ]
    },
    {
     "cell_type": "heading",
     "level": 4,
     "metadata": {},
     "source": [
      "support for unconstrained (nonreversible) as well as constrained (reversible) maximum likelihood optimization"
     ]
    },
    {
     "cell_type": "code",
     "collapsed": false,
     "input": [
      "Trev = tmatrix(C_cc, reversible = True)\n",
      "T = tmatrix(C_cc)"
     ],
     "language": "python",
     "metadata": {},
     "outputs": []
    },
    {
     "cell_type": "code",
     "collapsed": false,
     "input": [
      "T, Trev"
     ],
     "language": "python",
     "metadata": {},
     "outputs": []
    }
   ],
   "metadata": {}
  }
 ]
}
