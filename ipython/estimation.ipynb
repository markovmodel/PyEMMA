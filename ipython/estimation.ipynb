{
 "metadata": {
  "name": ""
 },
 "nbformat": 3,
 "nbformat_minor": 0,
 "worksheets": [
  {
   "cells": [
    {
     "cell_type": "heading",
     "level": 1,
     "metadata": {},
     "source": [
      "Emma2 - Estimation of a Markov model for Alanine-Dipeptide (already discretized trajectory)"
     ]
    },
    {
     "cell_type": "code",
     "collapsed": false,
     "input": [
      "from emma2.msm.io import read_dtraj\n",
      "from emma2.msm.estimation import cmatrix, connected_cmatrix, tmatrix\n",
      "import matplotlib.pyplot as plt"
     ],
     "language": "python",
     "metadata": {},
     "outputs": [],
     "prompt_number": 1
    },
    {
     "cell_type": "heading",
     "level": 2,
     "metadata": {},
     "source": [
      "Read discretized trajectory, $dt=1ps$, $T = 1000ns$"
     ]
    },
    {
     "cell_type": "code",
     "collapsed": false,
     "input": [
      "dtraj = read_dtraj('dihedral_dt1ps_T1000ns_1.disctraj')"
     ],
     "language": "python",
     "metadata": {},
     "outputs": [
      {
       "ename": "IOError",
       "evalue": "[Errno 2] No such file or directory: 'dihedral_dt1ps_T1000ns_1.disctraj'",
       "output_type": "pyerr",
       "traceback": [
        "\u001b[1;31m---------------------------------------------------------------------------\u001b[0m\n\u001b[1;31mIOError\u001b[0m                                   Traceback (most recent call last)",
        "\u001b[1;32m<ipython-input-3-af4a22a6cffd>\u001b[0m in \u001b[0;36m<module>\u001b[1;34m()\u001b[0m\n\u001b[1;32m----> 1\u001b[1;33m \u001b[0mdtraj\u001b[0m \u001b[1;33m=\u001b[0m \u001b[0mread_dtraj\u001b[0m\u001b[1;33m(\u001b[0m\u001b[1;34m'dihedral_dt1ps_T1000ns_1.disctraj'\u001b[0m\u001b[1;33m)\u001b[0m\u001b[1;33m\u001b[0m\u001b[0m\n\u001b[0m",
        "\u001b[1;32m/home/marscher/workspace/emma2/emma2/msm/io/api.pyc\u001b[0m in \u001b[0;36mread_discrete_trajectory\u001b[1;34m(filename)\u001b[0m\n\u001b[0;32m     38\u001b[0m \u001b[1;33m\u001b[0m\u001b[0m\n\u001b[0;32m     39\u001b[0m     \"\"\"\n\u001b[1;32m---> 40\u001b[1;33m     \u001b[1;32mreturn\u001b[0m \u001b[0mtrajectory\u001b[0m\u001b[1;33m.\u001b[0m\u001b[0mread_discrete_trajectory\u001b[0m\u001b[1;33m(\u001b[0m\u001b[0mfilename\u001b[0m\u001b[1;33m)\u001b[0m\u001b[1;33m\u001b[0m\u001b[0m\n\u001b[0m\u001b[0;32m     41\u001b[0m \u001b[1;33m\u001b[0m\u001b[0m\n\u001b[0;32m     42\u001b[0m \u001b[0mread_dtraj\u001b[0m\u001b[1;33m=\u001b[0m\u001b[0mread_discrete_trajectory\u001b[0m\u001b[1;33m\u001b[0m\u001b[0m\n",
        "\u001b[1;32m/home/marscher/workspace/emma2/emma2/msm/io/trajectory.pyc\u001b[0m in \u001b[0;36mread_discrete_trajectory\u001b[1;34m(filename)\u001b[0m\n\u001b[0;32m     30\u001b[0m \u001b[1;33m\u001b[0m\u001b[0m\n\u001b[0;32m     31\u001b[0m     \"\"\"\n\u001b[1;32m---> 32\u001b[1;33m     \u001b[1;32mwith\u001b[0m \u001b[0mopen\u001b[0m\u001b[1;33m(\u001b[0m\u001b[0mfilename\u001b[0m\u001b[1;33m,\u001b[0m \u001b[1;34m\"r\"\u001b[0m\u001b[1;33m)\u001b[0m \u001b[1;32mas\u001b[0m \u001b[0mf\u001b[0m\u001b[1;33m:\u001b[0m\u001b[1;33m\u001b[0m\u001b[0m\n\u001b[0m\u001b[0;32m     33\u001b[0m         \u001b[0mlines\u001b[0m\u001b[1;33m=\u001b[0m\u001b[0mf\u001b[0m\u001b[1;33m.\u001b[0m\u001b[0mread\u001b[0m\u001b[1;33m(\u001b[0m\u001b[1;33m)\u001b[0m\u001b[1;33m\u001b[0m\u001b[0m\n\u001b[0;32m     34\u001b[0m         \u001b[0mdtraj\u001b[0m\u001b[1;33m=\u001b[0m\u001b[0mnp\u001b[0m\u001b[1;33m.\u001b[0m\u001b[0mfromstring\u001b[0m\u001b[1;33m(\u001b[0m\u001b[0mlines\u001b[0m\u001b[1;33m,\u001b[0m \u001b[0mdtype\u001b[0m\u001b[1;33m=\u001b[0m\u001b[0mint\u001b[0m\u001b[1;33m,\u001b[0m \u001b[0msep\u001b[0m\u001b[1;33m=\u001b[0m\u001b[1;34m\"\\n\"\u001b[0m\u001b[1;33m)\u001b[0m\u001b[1;33m\u001b[0m\u001b[0m\n",
        "\u001b[1;31mIOError\u001b[0m: [Errno 2] No such file or directory: 'dihedral_dt1ps_T1000ns_1.disctraj'"
       ]
      }
     ],
     "prompt_number": 3
    },
    {
     "cell_type": "code",
     "collapsed": false,
     "input": [
      "dtraj"
     ],
     "language": "python",
     "metadata": {},
     "outputs": [
      {
       "metadata": {},
       "output_type": "pyout",
       "prompt_number": 6,
       "text": [
        "array([ 98, 139,  59, ..., 109, 148, 128])"
       ]
      }
     ],
     "prompt_number": 6
    },
    {
     "cell_type": "heading",
     "level": 2,
     "metadata": {},
     "source": [
      "Count matrix at lagtime $\\tau = 6 ps$"
     ]
    },
    {
     "cell_type": "code",
     "collapsed": false,
     "input": [
      "C_slide = cmatrix(dtraj, 6, sliding = True)\n",
      "C_slide2 = cmatrix(dtraj, 60, sliding = True)\n",
      "C = cmatrix(dtraj, 6, sliding = False)\n",
      "C60 = cmatrix(dtraj, 60, sliding = False)"
     ],
     "language": "python",
     "metadata": {},
     "outputs": [],
     "prompt_number": 16
    },
    {
     "cell_type": "heading",
     "level": 4,
     "metadata": {},
     "source": [
      "Efficient construction and storage using sparse coordinate list (COO) format"
     ]
    },
    {
     "cell_type": "code",
     "collapsed": false,
     "input": [
      "C, C60, C_slide, C_slide2"
     ],
     "language": "python",
     "metadata": {},
     "outputs": [
      {
       "metadata": {},
       "output_type": "pyout",
       "prompt_number": 17,
       "text": [
        "(<400x400 sparse matrix of type '<type 'numpy.float64'>'\n",
        "\twith 9964 stored elements in COOrdinate format>,\n",
        " <400x400 sparse matrix of type '<type 'numpy.float64'>'\n",
        "\twith 4449 stored elements in COOrdinate format>,\n",
        " <400x400 sparse matrix of type '<type 'numpy.float64'>'\n",
        "\twith 18412 stored elements in COOrdinate format>,\n",
        " <400x400 sparse matrix of type '<type 'numpy.float64'>'\n",
        "\twith 20560 stored elements in COOrdinate format>)"
       ]
      }
     ],
     "prompt_number": 17
    },
    {
     "cell_type": "heading",
     "level": 2,
     "metadata": {},
     "source": [
      "Count matrix of largest connected component"
     ]
    },
    {
     "cell_type": "code",
     "collapsed": false,
     "input": [
      "C_cc = connected_cmatrix(C)"
     ],
     "language": "python",
     "metadata": {},
     "outputs": [],
     "prompt_number": 18
    },
    {
     "cell_type": "heading",
     "level": 4,
     "metadata": {},
     "source": [
      "Extremely fast computation of connected component using scipy.csgraph library"
     ]
    },
    {
     "cell_type": "code",
     "collapsed": false,
     "input": [
      "C_cc"
     ],
     "language": "python",
     "metadata": {},
     "outputs": [
      {
       "metadata": {},
       "output_type": "pyout",
       "prompt_number": 19,
       "text": [
        "<251x251 sparse matrix of type '<type 'numpy.float64'>'\n",
        "\twith 9964 stored elements in COOrdinate format>"
       ]
      }
     ],
     "prompt_number": 19
    },
    {
     "cell_type": "heading",
     "level": 2,
     "metadata": {},
     "source": [
      "Maximum likelihood transition matrix"
     ]
    },
    {
     "cell_type": "heading",
     "level": 4,
     "metadata": {},
     "source": [
      "support for unconstrained (nonreversible) as well as constrained (reversible) maximum likelihood optimization"
     ]
    },
    {
     "cell_type": "code",
     "collapsed": false,
     "input": [
      "Trev = tmatrix(C_cc, reversible = True)\n",
      "T = tmatrix(C_cc)"
     ],
     "language": "python",
     "metadata": {},
     "outputs": [],
     "prompt_number": 21
    },
    {
     "cell_type": "code",
     "collapsed": false,
     "input": [
      "T, Trev"
     ],
     "language": "python",
     "metadata": {},
     "outputs": [
      {
       "metadata": {},
       "output_type": "pyout",
       "prompt_number": 22,
       "text": [
        "(<251x251 sparse matrix of type '<type 'numpy.float64'>'\n",
        "\twith 9964 stored elements in Compressed Sparse Row format>,\n",
        " <251x251 sparse matrix of type '<type 'numpy.float64'>'\n",
        "\twith 12919 stored elements in Compressed Sparse Row format>)"
       ]
      }
     ],
     "prompt_number": 22
    },
    {
     "cell_type": "code",
     "collapsed": false,
     "input": [],
     "language": "python",
     "metadata": {},
     "outputs": []
    }
   ],
   "metadata": {}
  }
 ]
}