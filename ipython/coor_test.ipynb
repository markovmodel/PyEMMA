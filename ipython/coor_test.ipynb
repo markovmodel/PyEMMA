{
 "metadata": {
  "name": ""
 },
 "nbformat": 3,
 "nbformat_minor": 0,
 "worksheets": [
  {
   "cells": [
    {
     "cell_type": "markdown",
     "metadata": {},
     "source": [
      "Designing the coor package\n",
      "==========================\n",
      "\n",
      "Here, we propose a \"look and feel\" for the coor package using some examples, to derive a design for its API. "
     ]
    },
    {
     "cell_type": "code",
     "collapsed": false,
     "input": [
      "##########################################\n",
      "# IMPORT ALL REQUIRED PACKAGES\n",
      "##########################################\n",
      "# system\n",
      "import os\n",
      "import math\n",
      "# numerics \n",
      "import numpy as np\n",
      "import scipy.sparse as sparse\n",
      "from scipy.sparse.base import issparse\n",
      "# iPython \n",
      "from IPython.display import display\n",
      "# matplotlib\n",
      "import matplotlib.pyplot as plt\n",
      "%pylab inline\n",
      "# 3D plot\n",
      "from mpl_toolkits.mplot3d import Axes3D\n",
      "#emma imports\n",
      "import emma2.coordinates.io as coorio\n",
      "import emma2.coordinates.transform as coortrans\n",
      "import emma2.msm.io as msmio\n",
      "import emma2.msm.estimation as msmest\n",
      "import emma2.msm.analysis as msmanal\n",
      "import emma2.util.pystallone as stallone"
     ],
     "language": "python",
     "metadata": {},
     "outputs": [
      {
       "output_type": "stream",
       "stream": "stderr",
       "text": [
        "2014-01-31 20:53:23,034 emma2.util.pystallone DEBUG    init with options: \"['-Xms64m', '-Xmx2000m', '-Djava.class.path=/Users/noe/Library/Enthought/Canopy_64bit/User/lib/python2.7/site-packages/Emma2-2.0-py2.7-macosx-10.6-x86_64.egg/emma2/util/../../lib/stallone/stallone-1.0-SNAPSHOT-jar-with-dependencies.jar/']\"\n"
       ]
      },
      {
       "output_type": "stream",
       "stream": "stderr",
       "text": [
        "2014-01-31 20:53:23,037 emma2.util.pystallone DEBUG    default vm path: /System/Library/Frameworks/JavaVM.framework/JavaVM\n"
       ]
      },
      {
       "output_type": "stream",
       "stream": "stdout",
       "text": [
        "Populating the interactive namespace from numpy and matplotlib\n"
       ]
      }
     ],
     "prompt_number": 1
    },
    {
     "cell_type": "markdown",
     "metadata": {},
     "source": [
      "IO  \n",
      "-----"
     ]
    },
    {
     "cell_type": "code",
     "collapsed": false,
     "input": [
      "# Read Coordinates and print first frame\n",
      "reader = coorio.reader(\"/Users/noe/data/open_projects/adaptive_sampling_local/data/TrypsinBenzamidine/testbed/results/long1/protein.dcd\")\n",
      "X0 = reader.get(0)\n",
      "print shape(X0)\n",
      "print X0[0:2]"
     ],
     "language": "python",
     "metadata": {},
     "outputs": [
      {
       "output_type": "stream",
       "stream": "stdout",
       "text": [
        "(3239, 3)\n",
        "[[  0.5560028   15.37600136  14.96399879]\n",
        " [  0.11099853  14.48199749  14.81399822]]\n"
       ]
      }
     ],
     "prompt_number": 2
    },
    {
     "cell_type": "code",
     "collapsed": false,
     "input": [
      "%timeit reader.get(0)"
     ],
     "language": "python",
     "metadata": {},
     "outputs": [
      {
       "output_type": "stream",
       "stream": "stdout",
       "text": [
        "100 loops, best of 3: 2.24 ms per loop\n"
       ]
      }
     ],
     "prompt_number": 3
    },
    {
     "cell_type": "code",
     "collapsed": false,
     "input": [
      "#load all\n",
      "traj = reader.load()\n",
      "print shape(traj)"
     ],
     "language": "python",
     "metadata": {},
     "outputs": [
      {
       "output_type": "stream",
       "stream": "stdout",
       "text": [
        "(10000, 3239, 3)\n"
       ]
      }
     ],
     "prompt_number": 4
    },
    {
     "cell_type": "code",
     "collapsed": false,
     "input": [
      "%timeit reader.load()"
     ],
     "language": "python",
     "metadata": {},
     "outputs": [
      {
       "output_type": "stream",
       "stream": "stdout",
       "text": [
        "1 loops, best of 3: 21.7 s per loop\n"
       ]
      }
     ],
     "prompt_number": 6
    },
    {
     "cell_type": "code",
     "collapsed": false,
     "input": [
      "# Load all backbone atoms\n",
      "selBB = np.loadtxt(\"/Users/noe/data/open_projects/adaptive_sampling_local/data/TrypsinBenzamidine/testbed/system/resources/indexBackbone.dat\", dtype=int)\n",
      "selBB = selBB-1\n",
      "selCA = selBB[223:446]\n",
      "trajBB = reader.load(select=selBB)\n",
      "print shape(trajBB)\n",
      "trajCA = reader.load(select=selCA)\n",
      "print shape(trajCA)"
     ],
     "language": "python",
     "metadata": {},
     "outputs": [
      {
       "output_type": "stream",
       "stream": "stdout",
       "text": [
        "(10000, 669, 3)\n",
        "(10000, 223, 3)"
       ]
      },
      {
       "output_type": "stream",
       "stream": "stdout",
       "text": [
        "\n"
       ]
      }
     ],
     "prompt_number": 4
    },
    {
     "cell_type": "code",
     "collapsed": false,
     "input": [
      "# Read Coordinates from a tabulated ASCII file\n",
      "reader = coorio.reader(\"/Users/noe/data/temp/end.dat\")\n",
      "print shape(reader.get(0))\n",
      "reader.load(select=[3])"
     ],
     "language": "python",
     "metadata": {},
     "outputs": [
      {
       "output_type": "stream",
       "stream": "stdout",
       "text": [
        "(4,)\n"
       ]
      },
      {
       "metadata": {},
       "output_type": "pyout",
       "prompt_number": 26,
       "text": [
        "array([[ 0.04063904],\n",
        "       [ 0.04103106],\n",
        "       [ 0.04058698],\n",
        "       ..., \n",
        "       [-0.01299568],\n",
        "       [-0.01299568],\n",
        "       [-0.01299568]])"
       ]
      }
     ],
     "prompt_number": 26
    },
    {
     "cell_type": "code",
     "collapsed": false,
     "input": [
      "# Write Coordinates to a tabulated ASCII file\n",
      "writer = coorio.writer(\"/Users/noe/data/temp/tmp.dat\")\n",
      "writer.addAll(reader.load(select=[0,2]))"
     ],
     "language": "python",
     "metadata": {},
     "outputs": [],
     "prompt_number": 27
    },
    {
     "cell_type": "markdown",
     "metadata": {},
     "source": [
      "IO seems to work. However, data transfer across the python/Java interface is currently very slow. This slowdown arises currently on the python side, where e.g. a JArray is transformed into a NumPy array or vice versa. Maybe this can be avoided by passing a python-constructed data field in memory across the interface and then filling it element-wise on the Java side. However, I don't know how to do this."
     ]
    },
    {
     "cell_type": "markdown",
     "metadata": {},
     "source": [
      "Example: Converting dcd files to inner coordinates\n",
      "--------------------------------------------------\n",
      "\n",
      "##### High-level: converting by file"
     ]
    },
    {
     "cell_type": "code",
     "collapsed": false,
     "input": [
      "# we define a coordinate transform\n",
      "Tdist = coortrans.createtransform_distances(range(0,10),range(0,5))\n",
      "print Tdist.dimension()"
     ],
     "language": "python",
     "metadata": {},
     "outputs": [
      {
       "output_type": "stream",
       "stream": "stdout",
       "text": [
        "50\n"
       ]
      }
     ],
     "prompt_number": 5
    },
    {
     "cell_type": "code",
     "collapsed": false,
     "input": [
      "Tdist.transform(trajBB[0])"
     ],
     "language": "python",
     "metadata": {},
     "outputs": [
      {
       "metadata": {},
       "output_type": "pyout",
       "prompt_number": 6,
       "text": [
        "array([[ 0.        ,  1.5000399 ,  2.46634429,  3.41012904,  4.80029615],\n",
        "       [ 1.5000399 ,  0.        ,  1.4951512 ,  2.42474628,  3.89483959],\n",
        "       [ 2.46634429,  1.4951512 ,  0.        ,  1.36037221,  2.58792347],\n",
        "       [ 3.41012904,  2.42474628,  1.36037221,  0.        ,  1.52002891],\n",
        "       [ 4.80029615,  3.89483959,  2.58792347,  1.52002891,  0.        ],\n",
        "       [ 5.70684111,  4.53471856,  3.2882925 ,  2.45181106,  1.48917105],\n",
        "       [ 6.79236984,  5.67450058,  4.33516566,  3.66940768,  2.4918975 ],\n",
        "       [ 7.99436187,  6.76740704,  5.53215408,  4.94376404,  3.89322406],\n",
        "       [ 8.09287078,  6.77615161,  5.72033931,  5.40277518,  4.70819029],\n",
        "       [ 7.16436015,  5.86732365,  4.91955153,  4.90032577,  4.53118755]])"
       ]
      }
     ],
     "prompt_number": 6
    },
    {
     "cell_type": "code",
     "collapsed": false,
     "input": [
      "# and entire files\n",
      "infile = \"/Users/noe/data/open_projects/adaptive_sampling_local/data/TrypsinBenzamidine/testbed/results/long1/protein.dcd\"\n",
      "outfile = \"/Users/noe/data/temp/tmp2.dat\"\n",
      "coortrans.transform_file(infile, Tdist, outfile, output_precision=(3,2))\n",
      "print np.reshape(np.loadtxt(outfile)[0],(10,5))"
     ],
     "language": "python",
     "metadata": {},
     "outputs": [
      {
       "output_type": "stream",
       "stream": "stdout",
       "text": [
        "[[ 0.    1.01  1.01  1.01  1.5 ]\n",
        " [ 1.01  0.    1.64  1.59  2.12]\n",
        " [ 1.01  1.64  0.    1.68  2.05]\n",
        " [ 1.01  1.59  1.68  0.    2.08]\n",
        " [ 1.5   2.12  2.05  2.08  0.  ]\n",
        " [ 2.14  2.45  2.95  2.45  1.09]\n",
        " [ 2.55  2.83  2.73  3.41  1.52]\n",
        " [ 2.87  3.29  2.66  3.77  2.13]\n",
        " [ 3.85  4.17  4.16  4.54  2.47]\n",
        " [ 4.04  4.33  4.57  4.55  2.61]]\n"
       ]
      }
     ],
     "prompt_number": 6
    },
    {
     "cell_type": "code",
     "collapsed": false,
     "input": [
      "# angular transforms\n",
      "Tangle = coortrans.createtransform_angles([[1,2,3],[2,3,4],[3,4,5],[4,5,6]])\n",
      "Tangle.transform(trajBB[0])"
     ],
     "language": "python",
     "metadata": {},
     "outputs": [
      {
       "metadata": {},
       "output_type": "pyout",
       "prompt_number": 7,
       "text": [
        "array([ 116.15750682,  127.82635399,  109.12530738,  123.37179877])"
       ]
      }
     ],
     "prompt_number": 7
    },
    {
     "cell_type": "code",
     "collapsed": false,
     "input": [
      "# dihedral transforms\n",
      "Tdih = coortrans.createtransform_dihedrals([[1,2,3,4],[2,3,4,5],[3,4,5,6],[4,5,6,7]])\n",
      "Tdih.transform(trajBB[0])"
     ],
     "language": "python",
     "metadata": {},
     "outputs": [
      {
       "metadata": {},
       "output_type": "pyout",
       "prompt_number": 8,
       "text": [
        "array([ 176.02260454,  -82.40826382,  148.02231927,  172.73559651])"
       ]
      }
     ],
     "prompt_number": 8
    },
    {
     "cell_type": "code",
     "collapsed": false,
     "input": [
      "# select all torsion angles along the backbone\n",
      "sel_all_BB_dih = np.array([range(0,len(selBB)-3),range(1,len(selBB)-2),range(2,len(selBB)-1),range(3,len(selBB))]).T\n",
      "Tdih_all = coortrans.createtransform_dihedrals(sel_all_BB_dih)\n",
      "sel_all_BB_dih"
     ],
     "language": "python",
     "metadata": {},
     "outputs": [
      {
       "metadata": {},
       "output_type": "pyout",
       "prompt_number": 9,
       "text": [
        "array([[  0,   1,   2,   3],\n",
        "       [  1,   2,   3,   4],\n",
        "       [  2,   3,   4,   5],\n",
        "       ..., \n",
        "       [663, 664, 665, 666],\n",
        "       [664, 665, 666, 667],\n",
        "       [665, 666, 667, 668]])"
       ]
      }
     ],
     "prompt_number": 9
    },
    {
     "cell_type": "code",
     "collapsed": false,
     "input": [
      "# compute all of them in memory\n",
      "coortrans.transform_trajectory(trajBB, Tdih_all)"
     ],
     "language": "python",
     "metadata": {},
     "outputs": [
      {
       "metadata": {},
       "output_type": "pyout",
       "prompt_number": 10,
       "text": [
        "array([[ 111.62534451,  176.02260454,  -82.40826382, ...,    9.15247689,\n",
        "         173.91597811, -137.10855075],\n",
        "       [ 117.35376448,  178.75319262,  -91.70954701, ...,   10.87225779,\n",
        "         179.63411764, -141.55740844],\n",
        "       [ 121.87113185,  166.20089739,  -83.28775142, ...,    3.4054627 ,\n",
        "        -175.64215249, -133.04441852],\n",
        "       ..., \n",
        "       [ 111.03767785,  178.15594878,  -82.41769136, ...,   32.70057267,\n",
        "        -168.14690303, -141.12974135],\n",
        "       [ 112.3943011 ,  171.79322647,  -84.7208768 , ...,   37.62983668,\n",
        "        -167.49425764, -137.80737082],\n",
        "       [ 127.06175326, -175.12605129, -110.59220873, ...,   11.05413367,\n",
        "        -170.95670286,  -99.51213445]])"
       ]
      }
     ],
     "prompt_number": 10
    },
    {
     "cell_type": "code",
     "collapsed": false,
     "input": [
      "#.... this took FOREVER!!!\n",
      "# let's try the same on a file:\n",
      "infile = \"/Users/noe/data/open_projects/adaptive_sampling_local/data/TrypsinBenzamidine/testbed/results/long1/protein.dcd\"\n",
      "outfile = \"/Users/noe/data/temp/tmp3.dat\"\n",
      "coortrans.transform_file(infile, Tdih_all, outfile, output_precision=(3,2))"
     ],
     "language": "python",
     "metadata": {},
     "outputs": [],
     "prompt_number": 11
    },
    {
     "cell_type": "markdown",
     "metadata": {},
     "source": [
      "Oh, my god. Writing from file to file is much faster than doing everything in memory but through the python/java interface. This is embarassing. We should really clean this up!"
     ]
    },
    {
     "cell_type": "code",
     "collapsed": false,
     "input": [
      "# Finally we try the minRMSD transform\n",
      "infile = \"/Users/noe/data/open_projects/adaptive_sampling_local/data/TrypsinBenzamidine/testbed/results/long1/protein.dcd\"\n",
      "T_minrmsd = coortrans.createtransform_minrmsd(X0)\n",
      "outfile = \"/Users/noe/data/temp/tmp4.dat\"\n",
      "coortrans.transform_file(infile, T_minrmsd, outfile, output_precision=(3,2))"
     ],
     "language": "python",
     "metadata": {},
     "outputs": [],
     "prompt_number": 12
    },
    {
     "cell_type": "markdown",
     "metadata": {},
     "source": [
      "That's fast. All file-based operations seem fine!"
     ]
    },
    {
     "cell_type": "markdown",
     "metadata": {},
     "source": [
      "### Examples for coordinate transforms\n",
      "\n",
      "* distances and angles\n",
      "    * ct.contacts(set1,set2)\n",
      "    * ct.contactmatrix(set1,set2)\n",
      "    * ct.distances(set1,set2)\n",
      "    * ct.distancematrix(set1,set2)\n",
      "    * ct.angles(angset)\n",
      "    * ct.dihedrals(dihset)\n",
      "    * ct.angles_sincos(angset)\n",
      "    * ct.dihedrals_sincos(dihset)\n",
      "* min rmsd to structure Y\n",
      "    * ct.minrmsd(Y)\n",
      "* linear transforms\n",
      "    * ct.center()\n",
      "    * ct.pca(pca)\n",
      "    * ct.tica(tica)\n",
      "* several transformations, serialized\n",
      "    * ct.mult([ct.minrmsd(Y),ct.distances(set1,set2),ct.angles(set1)])"
     ]
    },
    {
     "cell_type": "markdown",
     "metadata": {},
     "source": [
      "PCA and TICA\n",
      "------------"
     ]
    },
    {
     "cell_type": "code",
     "collapsed": false,
     "input": [
      "# manual PCA\n",
      "datamean = np.mean(trajCA,axis=0)\n",
      "trajCA0 = trajCA - datamean"
     ],
     "language": "python",
     "metadata": {},
     "outputs": [],
     "prompt_number": 16
    },
    {
     "cell_type": "code",
     "collapsed": false,
     "input": [
      "n = len(selCA)\n",
      "Cov = np.zeros((3*n,3*n))\n",
      "for i in range(0,n):\n",
      "    x = trajCA[i].flatten()\n",
      "    Cov += np.outer(x, x)\n",
      "Cov /= 10000.0"
     ],
     "language": "python",
     "metadata": {},
     "outputs": [],
     "prompt_number": 17
    },
    {
     "cell_type": "code",
     "collapsed": false,
     "input": [
      "eval,evec = np.linalg.eig(Cov)"
     ],
     "language": "python",
     "metadata": {},
     "outputs": [],
     "prompt_number": 18
    },
    {
     "cell_type": "code",
     "collapsed": false,
     "input": [
      "plot(range(3*n),evec[:,0])"
     ],
     "language": "python",
     "metadata": {},
     "outputs": [
      {
       "output_type": "stream",
       "stream": "stderr",
       "text": [
        "/Users/noe/Library/Enthought/Canopy_64bit/User/lib/python2.7/site-packages/numpy/core/numeric.py:460: ComplexWarning: Casting complex values to real discards the imaginary part\n",
        "  return array(a, dtype, copy=False, order=order)\n"
       ]
      },
      {
       "metadata": {},
       "output_type": "pyout",
       "prompt_number": 19,
       "text": [
        "[<matplotlib.lines.Line2D at 0x119286e10>]"
       ]
      },
      {
       "metadata": {},
       "output_type": "display_data",
       "png": "[encoded data removed]",
       "text": [
        "<matplotlib.figure.Figure at 0x147c3b050>"
       ]
      }
     ],
     "prompt_number": 19
    },
    {
     "cell_type": "code",
     "collapsed": false,
     "input": [
      "# map to CA trajectory\n",
      "infile = \"/Users/noe/data/open_projects/adaptive_sampling_local/data/TrypsinBenzamidine/testbed/results/long1/protein.dcd\"\n",
      "selBB = np.loadtxt(\"/Users/noe/data/open_projects/adaptive_sampling_local/data/TrypsinBenzamidine/testbed/system/resources/indexBackbone.dat\", dtype=int)\n",
      "selCA = selBB[223:446]\n",
      "T_sel = coortrans.createtransform_selection(selCA)\n",
      "outfile = \"/Users/noe/data/temp/tmp_ca.dcd\"\n",
      "coortrans.transform_file(infile, T_sel, outfile)"
     ],
     "language": "python",
     "metadata": {},
     "outputs": [],
     "prompt_number": 20
    },
    {
     "cell_type": "code",
     "collapsed": false,
     "input": [
      "selCA"
     ],
     "language": "python",
     "metadata": {},
     "outputs": [
      {
       "metadata": {},
       "output_type": "pyout",
       "prompt_number": 21,
       "text": [
        "array([   5,   24,   40,   47,   54,   75,   89,   99,  106,  116,  130,\n",
        "        144,  168,  174,  195,  212,  228,  239,  258,  272,  283,  290,\n",
        "        311,  328,  348,  358,  365,  372,  383,  402,  421,  435,  446,\n",
        "        463,  487,  503,  519,  530,  540,  550,  567,  577,  598,  620,\n",
        "        631,  638,  657,  674,  690,  714,  733,  740,  755,  767,  781,\n",
        "        800,  814,  830,  846,  861,  868,  882,  897,  914,  934,  953,\n",
        "        964,  974,  985, 1007, 1018, 1037, 1053, 1078, 1084, 1095, 1116,\n",
        "       1130, 1141, 1155, 1169, 1188, 1202, 1216, 1228, 1247, 1264, 1283,\n",
        "       1302, 1324, 1343, 1365, 1376, 1386, 1396, 1407, 1426, 1440, 1451,\n",
        "       1475, 1491, 1501, 1512, 1531, 1542, 1569, 1575, 1589, 1600, 1610,\n",
        "       1620, 1631, 1641, 1648, 1662, 1679, 1689, 1708, 1727, 1738, 1745,\n",
        "       1769, 1776, 1790, 1804, 1826, 1837, 1848, 1855, 1869, 1880, 1909,\n",
        "       1915, 1927, 1943, 1962, 1984, 1994, 2013, 2035, 2053, 2059, 2078,\n",
        "       2097, 2108, 2120, 2131, 2142, 2152, 2174, 2185, 2195, 2224, 2230,\n",
        "       2237, 2254, 2273, 2287, 2298, 2312, 2329, 2349, 2359, 2369, 2376,\n",
        "       2397, 2416, 2431, 2438, 2445, 2467, 2479, 2490, 2500, 2517, 2524,\n",
        "       2536, 2547, 2554, 2569, 2575, 2591, 2607, 2617, 2628, 2635, 2657,\n",
        "       2676, 2693, 2700, 2719, 2735, 2746, 2770, 2777, 2788, 2795, 2805,\n",
        "       2815, 2832, 2854, 2868, 2898, 2904, 2911, 2927, 2948, 2962, 2984,\n",
        "       3000, 3010, 3024, 3045, 3061, 3072, 3096, 3115, 3137, 3154, 3168,\n",
        "       3187, 3197, 3208])"
       ]
      }
     ],
     "prompt_number": 21
    },
    {
     "cell_type": "code",
     "collapsed": false,
     "input": [
      "infile = \"/Users/noe/data/temp/tmp_ca.dcd\"\n",
      "T_pca = coortrans.pca(infile)"
     ],
     "language": "python",
     "metadata": {},
     "outputs": [],
     "prompt_number": 22
    },
    {
     "cell_type": "code",
     "collapsed": false,
     "input": [
      "eval = T_pca.getEigenvalues()\n",
      "eval.get(0)\n",
      "eval.get(1)\n",
      "eval.get(2)\n",
      "eval.get(3)"
     ],
     "language": "python",
     "metadata": {},
     "outputs": [
      {
       "metadata": {},
       "output_type": "pyout",
       "prompt_number": 23,
       "text": [
        "10.507545411752542"
       ]
      }
     ],
     "prompt_number": 23
    },
    {
     "cell_type": "code",
     "collapsed": false,
     "input": [
      "# Define input trajectories\n",
      "infiles = [\"./traj1.dcd\",\"./traj2.dcd\",\"./traj3.dcd\"]\n",
      "outfiles = [\"./tic1.dat\",\"./tic2.dat\",\"./tic3.dat\"]\n",
      "# Perform TICA on data in memory\n",
      "traj = np.ones((100,7)) # single trajectory of 7 dimensions and 100 frames\n",
      "tica = coortrans.tica(traj,3) # returns a transformation object which holds the TICA matrices\n",
      "# Perform TICA on data in memory\n",
      "trajs = [np.ones((100,7)),np.ones((20,7))] # two trajectories\n",
      "tica = coortransforms.tica(trajs,3) # returns a transformation object which holds the TICA matrices\n",
      "# Perform TICA on a file\n",
      "tica = coor.transforms.tica(\"traj1.dcd\",3)\n",
      "# Perform TICA on files\n",
      "tica = coor.transforms.tica(infiles,3)\n",
      "\n",
      "## TRANSFORM data in memory\n",
      "data = coor.read(\"./traj1.dcd\")\n",
      "tic = np.zeros((len(data),3))\n",
      "for i in range(len(data)):\n",
      "    tic[i] = tica.transform(data[i])\n",
      "\n",
      "## TRANSFORM files\n",
      "for i in range(len(infiles)):\n",
      "    coor.transform(infile[i], outfiles[i], tica)"
     ],
     "language": "python",
     "metadata": {},
     "outputs": [
      {
       "ename": "NameError",
       "evalue": "name 'coor' is not defined",
       "output_type": "pyerr",
       "traceback": [
        "\u001b[0;31m---------------------------------------------------------------------------\u001b[0m\n\u001b[0;31mNameError\u001b[0m                                 Traceback (most recent call last)",
        "\u001b[0;32m<ipython-input-24-bcaf80ca54dd>\u001b[0m in \u001b[0;36m<module>\u001b[0;34m()\u001b[0m\n\u001b[1;32m      4\u001b[0m \u001b[0;31m# Perform TICA on data in memory\u001b[0m\u001b[0;34m\u001b[0m\u001b[0;34m\u001b[0m\u001b[0m\n\u001b[1;32m      5\u001b[0m \u001b[0mtraj\u001b[0m \u001b[0;34m=\u001b[0m \u001b[0mnp\u001b[0m\u001b[0;34m.\u001b[0m\u001b[0mones\u001b[0m\u001b[0;34m(\u001b[0m\u001b[0;34m(\u001b[0m\u001b[0;36m100\u001b[0m\u001b[0;34m,\u001b[0m\u001b[0;36m7\u001b[0m\u001b[0;34m)\u001b[0m\u001b[0;34m)\u001b[0m \u001b[0;31m# single trajectory of 7 dimensions and 100 frames\u001b[0m\u001b[0;34m\u001b[0m\u001b[0m\n\u001b[0;32m----> 6\u001b[0;31m \u001b[0mtica\u001b[0m \u001b[0;34m=\u001b[0m \u001b[0mcoor\u001b[0m\u001b[0;34m.\u001b[0m\u001b[0mtransforms\u001b[0m\u001b[0;34m.\u001b[0m\u001b[0mtica\u001b[0m\u001b[0;34m(\u001b[0m\u001b[0mtraj\u001b[0m\u001b[0;34m,\u001b[0m\u001b[0;36m3\u001b[0m\u001b[0;34m)\u001b[0m \u001b[0;31m# returns a transformation object which holds the TICA matrices\u001b[0m\u001b[0;34m\u001b[0m\u001b[0m\n\u001b[0m\u001b[1;32m      7\u001b[0m \u001b[0;31m# Perform TICA on data in memory\u001b[0m\u001b[0;34m\u001b[0m\u001b[0;34m\u001b[0m\u001b[0m\n\u001b[1;32m      8\u001b[0m \u001b[0mtrajs\u001b[0m \u001b[0;34m=\u001b[0m \u001b[0;34m[\u001b[0m\u001b[0mnp\u001b[0m\u001b[0;34m.\u001b[0m\u001b[0mones\u001b[0m\u001b[0;34m(\u001b[0m\u001b[0;34m(\u001b[0m\u001b[0;36m100\u001b[0m\u001b[0;34m,\u001b[0m\u001b[0;36m7\u001b[0m\u001b[0;34m)\u001b[0m\u001b[0;34m)\u001b[0m\u001b[0;34m,\u001b[0m\u001b[0mnp\u001b[0m\u001b[0;34m.\u001b[0m\u001b[0mones\u001b[0m\u001b[0;34m(\u001b[0m\u001b[0;34m(\u001b[0m\u001b[0;36m20\u001b[0m\u001b[0;34m,\u001b[0m\u001b[0;36m7\u001b[0m\u001b[0;34m)\u001b[0m\u001b[0;34m)\u001b[0m\u001b[0;34m]\u001b[0m \u001b[0;31m# two trajectories\u001b[0m\u001b[0;34m\u001b[0m\u001b[0m\n",
        "\u001b[0;31mNameError\u001b[0m: name 'coor' is not defined"
       ]
      }
     ],
     "prompt_number": 24
    },
    {
     "cell_type": "raw",
     "metadata": {},
     "source": [
      "The transformation in memory bears the same inefficiency as the minrmsd example above.\n",
      "\n",
      "Another downside of the use above is that just specifying files does not allow to additionally specify how they should be read, e.g. selections. So that must be done via a separate file processing step. When done in memory this is no problem.\n",
      "\n",
      "The more common way of using TICA will likely be something like:"
     ]
    },
    {
     "cell_type": "code",
     "collapsed": false,
     "input": [
      "# Define input trajectories\n",
      "infiles = [\"./dists1.dat\",\"./dists2.dat\",\"./dists3.dat\"]\n",
      "outfiles = [\"./tic1.dat\",\"./tic2.dat\",\"./tic3.dat\"]\n",
      "\n",
      "# Perform TICA on data in memory\n",
      "data = coor.read(\"./traj1.dcd\",setCA) # read only CA\n",
      "tica = coor.transforms.tica(data,100,3) # project at lag 100 to three dimensions\n",
      "tics = coor.transform_data(data, tica)\n",
      "\n",
      "# TRANSFORM files\n",
      "tica = coor.transforms.tica(infiles,100,3) # project at lag 100 to three dimensions\n",
      "for i in range(len(infiles)):\n",
      "    coor.transform(infile[i], outfiles[i], tica)\n",
      "    \n",
      "# if all is done by one transform command, we can also provide the following\n",
      "tica = coor.transforms.tica(infiles,100,3) # project at lag 100 to three dimensions\n",
      "coor.transform(infiles, outfiles, tica)\n",
      "\n",
      "# in principle all of this could be combined into one command, although that might be too complex\n",
      "tica = coor.tranforms.tica(infiles,outfiles,lag=100,ndim=3)"
     ],
     "language": "python",
     "metadata": {},
     "outputs": []
    },
    {
     "cell_type": "markdown",
     "metadata": {},
     "source": [
      "TODOs\n",
      "-----\n",
      "\n",
      "Parametrizable transformers such as PCA and TICA can be constructed in four ways:\n",
      "\n",
      "* single data sequence (2d ndarray)\n",
      "* list of data sequences \n",
      "* single filename\n",
      "* list of filenames\n",
      "\n",
      "We only need two transform commands:\n",
      "\n",
      "* coor.transform_file(infile, outfile, transform)\n",
      "* Y = coor.transform_data(X, out=Y, transform)\n",
      "\n",
      "We always have full flexibility through the transform's own transform command\n",
      "\n",
      "* y = tica.transform(x)"
     ]
    },
    {
     "cell_type": "markdown",
     "metadata": {},
     "source": [
      "Example: Clustering\n",
      "-------------------\n",
      "\n"
     ]
    },
    {
     "cell_type": "code",
     "collapsed": false,
     "input": [
      "infiles = [\"./tics1.dat\",\"./tics2.dat\",\"./tics3.dat\"]\n",
      "outfiles = [\"./tics1.dtraj\",\"./tics2.dtraj\",\"./tics3.dtraj\"]\n",
      "# construct from files\n",
      "clustering = coor.cluster.regspace(infiles)\n",
      "# construct five-dimensional data in memory\n",
      "data = [coor.read(f)[0:5] for f in infiles]\n",
      "clustering = coor.cluster.regspace(data)\n",
      "\n",
      "# assign to files\n",
      "for i in range(len(infiles)):\n",
      "    coor.assign(infiles[i], outfiles[i], clustering)\n",
      "\n",
      "# or to memory\n",
      "dtrajs = [clustering.assign(coor.read(f)) for f in infiles]"
     ],
     "language": "python",
     "metadata": {},
     "outputs": []
    },
    {
     "cell_type": "markdown",
     "metadata": {},
     "source": [
      "Clustering behaves the same like a transformation, only that assigns to an integer."
     ]
    },
    {
     "cell_type": "markdown",
     "metadata": {},
     "source": [
      "API\n",
      "---\n",
      "\n",
      "** IO **\n",
      "\n",
      "* reader = coor.reader(infiles[i])\n",
      "    * X = reader.get(f)\n",
      "* writer = coor.data_writer(outfiles[i])\n",
      "    * writer.write([d])\n",
      "* coor.write_data(outfiles[i], outcrd)\n",
      "\n",
      "** Nonparametric Transform **\n",
      "\n",
      "* coor.transform_file(infiles, outfiles, transform)\n",
      "* Y = coor.transform_data(X, out=Y, transform)\n",
      "* coor.transform creators (each transform features a Y=transform(X, out=Y) command)\n",
      "    * ct.contacts(set1,set2)\n",
      "    * ct.contactmatrix(set1,set2)\n",
      "    * ct.distances(set1,set2)\n",
      "    * ct.distancematrix(set1,set2)\n",
      "    * ct.angles(angset)\n",
      "    * ct.dihedrals(dihset)\n",
      "    * ct.angles_sincos(angset)\n",
      "    * ct.dihedrals_sincos(dihset)\n",
      "    * ct.minrmsd(Y)\n",
      "    * ct.center()\n",
      "    * ct.mult([transforms])\n",
      "* direct transforms (distancematrix,...)\n",
      "\n",
      "** Parametrizable Transforms **\n",
      "\n",
      "* pca(input_data)\n",
      "    * set_dimension(d)\n",
      "* tica(input_data, lag)\n",
      "    * set_dimension(d)\n",
      "* stallone: calls dataNew.dataInput(input_data) and then the corresponding algorithm\n",
      "\n",
      "** Clustering **\n",
      "\n",
      "* kmeans(k)\n",
      "* regspace(dmin)\n",
      "* regspace_adaptive(k)\n",
      "* stallone: calls dataNew.dataInput(input_data) and then the corresponding algorithm\n",
      "\n",
      "\n",
      "** Metrics **\n",
      "\n",
      "* minrmsd(X,Y)\n",
      "* euclidean(X,Y)\n",
      "\n",
      "** Keep in mind **\n",
      "\n",
      "* useful to have updateable transforms (add_data)"
     ]
    },
    {
     "cell_type": "code",
     "collapsed": false,
     "input": [],
     "language": "python",
     "metadata": {},
     "outputs": []
    }
   ],
   "metadata": {}
  }
 ]
}