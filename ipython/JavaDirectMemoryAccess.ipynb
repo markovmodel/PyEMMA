{
 "metadata": {
  "name": "",
  "signature": "sha256:0d96e3c51484ecb871dde5410be9421c8d406807d53bd73e180f225ce72c478c"
 },
 "nbformat": 3,
 "nbformat_minor": 0,
 "worksheets": [
  {
   "cells": [
    {
     "cell_type": "heading",
     "level": 1,
     "metadata": {},
     "source": [
      "Pass memory to Java interface without copying the data around."
     ]
    },
    {
     "cell_type": "code",
     "collapsed": false,
     "input": [
      "import emma2\n",
      "import numpy as np"
     ],
     "language": "python",
     "metadata": {},
     "outputs": [],
     "prompt_number": 28
    },
    {
     "cell_type": "markdown",
     "metadata": {},
     "source": [
      "create an empty numpy vector and show its flags. Its important that it is *C-contiguous*, so it can be accessed in an c array like fashion (raw pointer access)."
     ]
    },
    {
     "cell_type": "code",
     "collapsed": false,
     "input": [
      "x = np.zeros(3)\n",
      "print x.flags"
     ],
     "language": "python",
     "metadata": {},
     "outputs": []
    },
    {
     "cell_type": "markdown",
     "metadata": {},
     "source": [
      "Now one can convert this numpy vector to a direct buffer the stallone array wrapping interface. The stallone array wrapper directly converts to direct buffer and wraps this in an stallone array type. Ensure that you pass copy=False to the method. Otherwise a copy will be performed. The wrapper method will also raise, if the passed in array is not contiguous. "
     ]
    },
    {
     "cell_type": "code",
     "collapsed": false,
     "input": [
      "s = emma2.util.pystallone.ndarray_to_stallone_array(x, copy=False)"
     ],
     "language": "python",
     "metadata": {},
     "outputs": []
    },
    {
     "cell_type": "code",
     "collapsed": false,
     "input": [
      "s.set(0, 24.)\n",
      "s.set(2, 42.)"
     ],
     "language": "python",
     "metadata": {},
     "outputs": []
    },
    {
     "cell_type": "code",
     "collapsed": false,
     "input": [
      "print s"
     ],
     "language": "python",
     "metadata": {},
     "outputs": []
    },
    {
     "cell_type": "code",
     "collapsed": false,
     "input": [
      "np.allclose(x[0], s.get(0))"
     ],
     "language": "python",
     "metadata": {},
     "outputs": []
    },
    {
     "cell_type": "code",
     "collapsed": false,
     "input": [
      "np.allclose(x, s.getArray())"
     ],
     "language": "python",
     "metadata": {},
     "outputs": []
    }
   ],
   "metadata": {}
  }
 ]
}